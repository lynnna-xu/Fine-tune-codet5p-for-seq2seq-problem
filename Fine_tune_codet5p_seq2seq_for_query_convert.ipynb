{
  "nbformat": 4,
  "nbformat_minor": 0,
  "metadata": {
    "accelerator": "GPU",
    "colab": {
      "provenance": [],
      "gpuType": "V100"
    },
    "kernelspec": {
      "display_name": "Python 3",
      "name": "python3"
    },
    "language_info": {
      "name": "python"
    },
    "widgets": {
      "application/vnd.jupyter.widget-state+json": {
        "dcd55ae99d8e4b4f8c4754a891e205fe": {
          "model_module": "@jupyter-widgets/controls",
          "model_name": "HBoxModel",
          "model_module_version": "1.5.0",
          "state": {
            "_dom_classes": [],
            "_model_module": "@jupyter-widgets/controls",
            "_model_module_version": "1.5.0",
            "_model_name": "HBoxModel",
            "_view_count": null,
            "_view_module": "@jupyter-widgets/controls",
            "_view_module_version": "1.5.0",
            "_view_name": "HBoxView",
            "box_style": "",
            "children": [
              "IPY_MODEL_db015351516d444db123648139811ab6",
              "IPY_MODEL_abdc1fc0f1fc4f85b971ced7eb744b1d",
              "IPY_MODEL_71dd1514bd1141f29e12d0fd8012a965"
            ],
            "layout": "IPY_MODEL_e7bfdcd37f404f379c689babac065722"
          }
        },
        "db015351516d444db123648139811ab6": {
          "model_module": "@jupyter-widgets/controls",
          "model_name": "HTMLModel",
          "model_module_version": "1.5.0",
          "state": {
            "_dom_classes": [],
            "_model_module": "@jupyter-widgets/controls",
            "_model_module_version": "1.5.0",
            "_model_name": "HTMLModel",
            "_view_count": null,
            "_view_module": "@jupyter-widgets/controls",
            "_view_module_version": "1.5.0",
            "_view_name": "HTMLView",
            "description": "",
            "description_tooltip": null,
            "layout": "IPY_MODEL_5302e6d1ab01468b9fec833b5c690b2c",
            "placeholder": "​",
            "style": "IPY_MODEL_8c010df0cd724cea8846be521b22656b",
            "value": "Map: 100%"
          }
        },
        "abdc1fc0f1fc4f85b971ced7eb744b1d": {
          "model_module": "@jupyter-widgets/controls",
          "model_name": "FloatProgressModel",
          "model_module_version": "1.5.0",
          "state": {
            "_dom_classes": [],
            "_model_module": "@jupyter-widgets/controls",
            "_model_module_version": "1.5.0",
            "_model_name": "FloatProgressModel",
            "_view_count": null,
            "_view_module": "@jupyter-widgets/controls",
            "_view_module_version": "1.5.0",
            "_view_name": "ProgressView",
            "bar_style": "success",
            "description": "",
            "description_tooltip": null,
            "layout": "IPY_MODEL_8e26c7fe57c342dfa4069820c4a8f2f9",
            "max": 1536,
            "min": 0,
            "orientation": "horizontal",
            "style": "IPY_MODEL_1fa31a88290c458aa561a9b8b65e7fdd",
            "value": 1536
          }
        },
        "71dd1514bd1141f29e12d0fd8012a965": {
          "model_module": "@jupyter-widgets/controls",
          "model_name": "HTMLModel",
          "model_module_version": "1.5.0",
          "state": {
            "_dom_classes": [],
            "_model_module": "@jupyter-widgets/controls",
            "_model_module_version": "1.5.0",
            "_model_name": "HTMLModel",
            "_view_count": null,
            "_view_module": "@jupyter-widgets/controls",
            "_view_module_version": "1.5.0",
            "_view_name": "HTMLView",
            "description": "",
            "description_tooltip": null,
            "layout": "IPY_MODEL_5e5b628ef12641658136e007f53a43bb",
            "placeholder": "​",
            "style": "IPY_MODEL_4beb66bf586443038da6ff9140a01d79",
            "value": " 1536/1536 [00:00&lt;00:00, 2618.65 examples/s]"
          }
        },
        "e7bfdcd37f404f379c689babac065722": {
          "model_module": "@jupyter-widgets/base",
          "model_name": "LayoutModel",
          "model_module_version": "1.2.0",
          "state": {
            "_model_module": "@jupyter-widgets/base",
            "_model_module_version": "1.2.0",
            "_model_name": "LayoutModel",
            "_view_count": null,
            "_view_module": "@jupyter-widgets/base",
            "_view_module_version": "1.2.0",
            "_view_name": "LayoutView",
            "align_content": null,
            "align_items": null,
            "align_self": null,
            "border": null,
            "bottom": null,
            "display": null,
            "flex": null,
            "flex_flow": null,
            "grid_area": null,
            "grid_auto_columns": null,
            "grid_auto_flow": null,
            "grid_auto_rows": null,
            "grid_column": null,
            "grid_gap": null,
            "grid_row": null,
            "grid_template_areas": null,
            "grid_template_columns": null,
            "grid_template_rows": null,
            "height": null,
            "justify_content": null,
            "justify_items": null,
            "left": null,
            "margin": null,
            "max_height": null,
            "max_width": null,
            "min_height": null,
            "min_width": null,
            "object_fit": null,
            "object_position": null,
            "order": null,
            "overflow": null,
            "overflow_x": null,
            "overflow_y": null,
            "padding": null,
            "right": null,
            "top": null,
            "visibility": null,
            "width": null
          }
        },
        "5302e6d1ab01468b9fec833b5c690b2c": {
          "model_module": "@jupyter-widgets/base",
          "model_name": "LayoutModel",
          "model_module_version": "1.2.0",
          "state": {
            "_model_module": "@jupyter-widgets/base",
            "_model_module_version": "1.2.0",
            "_model_name": "LayoutModel",
            "_view_count": null,
            "_view_module": "@jupyter-widgets/base",
            "_view_module_version": "1.2.0",
            "_view_name": "LayoutView",
            "align_content": null,
            "align_items": null,
            "align_self": null,
            "border": null,
            "bottom": null,
            "display": null,
            "flex": null,
            "flex_flow": null,
            "grid_area": null,
            "grid_auto_columns": null,
            "grid_auto_flow": null,
            "grid_auto_rows": null,
            "grid_column": null,
            "grid_gap": null,
            "grid_row": null,
            "grid_template_areas": null,
            "grid_template_columns": null,
            "grid_template_rows": null,
            "height": null,
            "justify_content": null,
            "justify_items": null,
            "left": null,
            "margin": null,
            "max_height": null,
            "max_width": null,
            "min_height": null,
            "min_width": null,
            "object_fit": null,
            "object_position": null,
            "order": null,
            "overflow": null,
            "overflow_x": null,
            "overflow_y": null,
            "padding": null,
            "right": null,
            "top": null,
            "visibility": null,
            "width": null
          }
        },
        "8c010df0cd724cea8846be521b22656b": {
          "model_module": "@jupyter-widgets/controls",
          "model_name": "DescriptionStyleModel",
          "model_module_version": "1.5.0",
          "state": {
            "_model_module": "@jupyter-widgets/controls",
            "_model_module_version": "1.5.0",
            "_model_name": "DescriptionStyleModel",
            "_view_count": null,
            "_view_module": "@jupyter-widgets/base",
            "_view_module_version": "1.2.0",
            "_view_name": "StyleView",
            "description_width": ""
          }
        },
        "8e26c7fe57c342dfa4069820c4a8f2f9": {
          "model_module": "@jupyter-widgets/base",
          "model_name": "LayoutModel",
          "model_module_version": "1.2.0",
          "state": {
            "_model_module": "@jupyter-widgets/base",
            "_model_module_version": "1.2.0",
            "_model_name": "LayoutModel",
            "_view_count": null,
            "_view_module": "@jupyter-widgets/base",
            "_view_module_version": "1.2.0",
            "_view_name": "LayoutView",
            "align_content": null,
            "align_items": null,
            "align_self": null,
            "border": null,
            "bottom": null,
            "display": null,
            "flex": null,
            "flex_flow": null,
            "grid_area": null,
            "grid_auto_columns": null,
            "grid_auto_flow": null,
            "grid_auto_rows": null,
            "grid_column": null,
            "grid_gap": null,
            "grid_row": null,
            "grid_template_areas": null,
            "grid_template_columns": null,
            "grid_template_rows": null,
            "height": null,
            "justify_content": null,
            "justify_items": null,
            "left": null,
            "margin": null,
            "max_height": null,
            "max_width": null,
            "min_height": null,
            "min_width": null,
            "object_fit": null,
            "object_position": null,
            "order": null,
            "overflow": null,
            "overflow_x": null,
            "overflow_y": null,
            "padding": null,
            "right": null,
            "top": null,
            "visibility": null,
            "width": null
          }
        },
        "1fa31a88290c458aa561a9b8b65e7fdd": {
          "model_module": "@jupyter-widgets/controls",
          "model_name": "ProgressStyleModel",
          "model_module_version": "1.5.0",
          "state": {
            "_model_module": "@jupyter-widgets/controls",
            "_model_module_version": "1.5.0",
            "_model_name": "ProgressStyleModel",
            "_view_count": null,
            "_view_module": "@jupyter-widgets/base",
            "_view_module_version": "1.2.0",
            "_view_name": "StyleView",
            "bar_color": null,
            "description_width": ""
          }
        },
        "5e5b628ef12641658136e007f53a43bb": {
          "model_module": "@jupyter-widgets/base",
          "model_name": "LayoutModel",
          "model_module_version": "1.2.0",
          "state": {
            "_model_module": "@jupyter-widgets/base",
            "_model_module_version": "1.2.0",
            "_model_name": "LayoutModel",
            "_view_count": null,
            "_view_module": "@jupyter-widgets/base",
            "_view_module_version": "1.2.0",
            "_view_name": "LayoutView",
            "align_content": null,
            "align_items": null,
            "align_self": null,
            "border": null,
            "bottom": null,
            "display": null,
            "flex": null,
            "flex_flow": null,
            "grid_area": null,
            "grid_auto_columns": null,
            "grid_auto_flow": null,
            "grid_auto_rows": null,
            "grid_column": null,
            "grid_gap": null,
            "grid_row": null,
            "grid_template_areas": null,
            "grid_template_columns": null,
            "grid_template_rows": null,
            "height": null,
            "justify_content": null,
            "justify_items": null,
            "left": null,
            "margin": null,
            "max_height": null,
            "max_width": null,
            "min_height": null,
            "min_width": null,
            "object_fit": null,
            "object_position": null,
            "order": null,
            "overflow": null,
            "overflow_x": null,
            "overflow_y": null,
            "padding": null,
            "right": null,
            "top": null,
            "visibility": null,
            "width": null
          }
        },
        "4beb66bf586443038da6ff9140a01d79": {
          "model_module": "@jupyter-widgets/controls",
          "model_name": "DescriptionStyleModel",
          "model_module_version": "1.5.0",
          "state": {
            "_model_module": "@jupyter-widgets/controls",
            "_model_module_version": "1.5.0",
            "_model_name": "DescriptionStyleModel",
            "_view_count": null,
            "_view_module": "@jupyter-widgets/base",
            "_view_module_version": "1.2.0",
            "_view_name": "StyleView",
            "description_width": ""
          }
        },
        "a3fb25acf26b440ea20ee724a5f7929b": {
          "model_module": "@jupyter-widgets/controls",
          "model_name": "HBoxModel",
          "model_module_version": "1.5.0",
          "state": {
            "_dom_classes": [],
            "_model_module": "@jupyter-widgets/controls",
            "_model_module_version": "1.5.0",
            "_model_name": "HBoxModel",
            "_view_count": null,
            "_view_module": "@jupyter-widgets/controls",
            "_view_module_version": "1.5.0",
            "_view_name": "HBoxView",
            "box_style": "",
            "children": [
              "IPY_MODEL_b94513a042fa492ba3bc42d3dc566d89",
              "IPY_MODEL_d026f7e20d04415ea33b0d997af96221",
              "IPY_MODEL_f63720abe7284d63bdd5725b33f6a3cf"
            ],
            "layout": "IPY_MODEL_419c59fdb9b64577a2b65186b28713e6"
          }
        },
        "b94513a042fa492ba3bc42d3dc566d89": {
          "model_module": "@jupyter-widgets/controls",
          "model_name": "HTMLModel",
          "model_module_version": "1.5.0",
          "state": {
            "_dom_classes": [],
            "_model_module": "@jupyter-widgets/controls",
            "_model_module_version": "1.5.0",
            "_model_name": "HTMLModel",
            "_view_count": null,
            "_view_module": "@jupyter-widgets/controls",
            "_view_module_version": "1.5.0",
            "_view_name": "HTMLView",
            "description": "",
            "description_tooltip": null,
            "layout": "IPY_MODEL_e0ac893266ea4b0bb6311b4ffc2e754c",
            "placeholder": "​",
            "style": "IPY_MODEL_10a133438b06489ea73a0de26a285759",
            "value": "Map: 100%"
          }
        },
        "d026f7e20d04415ea33b0d997af96221": {
          "model_module": "@jupyter-widgets/controls",
          "model_name": "FloatProgressModel",
          "model_module_version": "1.5.0",
          "state": {
            "_dom_classes": [],
            "_model_module": "@jupyter-widgets/controls",
            "_model_module_version": "1.5.0",
            "_model_name": "FloatProgressModel",
            "_view_count": null,
            "_view_module": "@jupyter-widgets/controls",
            "_view_module_version": "1.5.0",
            "_view_name": "ProgressView",
            "bar_style": "success",
            "description": "",
            "description_tooltip": null,
            "layout": "IPY_MODEL_312f46ef0f064c09896affa559c7a3af",
            "max": 192,
            "min": 0,
            "orientation": "horizontal",
            "style": "IPY_MODEL_3f2fc30480de492883b9a991385e9a63",
            "value": 192
          }
        },
        "f63720abe7284d63bdd5725b33f6a3cf": {
          "model_module": "@jupyter-widgets/controls",
          "model_name": "HTMLModel",
          "model_module_version": "1.5.0",
          "state": {
            "_dom_classes": [],
            "_model_module": "@jupyter-widgets/controls",
            "_model_module_version": "1.5.0",
            "_model_name": "HTMLModel",
            "_view_count": null,
            "_view_module": "@jupyter-widgets/controls",
            "_view_module_version": "1.5.0",
            "_view_name": "HTMLView",
            "description": "",
            "description_tooltip": null,
            "layout": "IPY_MODEL_d959c4494dc54f4aa898586cf2eb5d83",
            "placeholder": "​",
            "style": "IPY_MODEL_1f70522924874117a5e287586ce0525f",
            "value": " 192/192 [00:00&lt;00:00, 2223.10 examples/s]"
          }
        },
        "419c59fdb9b64577a2b65186b28713e6": {
          "model_module": "@jupyter-widgets/base",
          "model_name": "LayoutModel",
          "model_module_version": "1.2.0",
          "state": {
            "_model_module": "@jupyter-widgets/base",
            "_model_module_version": "1.2.0",
            "_model_name": "LayoutModel",
            "_view_count": null,
            "_view_module": "@jupyter-widgets/base",
            "_view_module_version": "1.2.0",
            "_view_name": "LayoutView",
            "align_content": null,
            "align_items": null,
            "align_self": null,
            "border": null,
            "bottom": null,
            "display": null,
            "flex": null,
            "flex_flow": null,
            "grid_area": null,
            "grid_auto_columns": null,
            "grid_auto_flow": null,
            "grid_auto_rows": null,
            "grid_column": null,
            "grid_gap": null,
            "grid_row": null,
            "grid_template_areas": null,
            "grid_template_columns": null,
            "grid_template_rows": null,
            "height": null,
            "justify_content": null,
            "justify_items": null,
            "left": null,
            "margin": null,
            "max_height": null,
            "max_width": null,
            "min_height": null,
            "min_width": null,
            "object_fit": null,
            "object_position": null,
            "order": null,
            "overflow": null,
            "overflow_x": null,
            "overflow_y": null,
            "padding": null,
            "right": null,
            "top": null,
            "visibility": null,
            "width": null
          }
        },
        "e0ac893266ea4b0bb6311b4ffc2e754c": {
          "model_module": "@jupyter-widgets/base",
          "model_name": "LayoutModel",
          "model_module_version": "1.2.0",
          "state": {
            "_model_module": "@jupyter-widgets/base",
            "_model_module_version": "1.2.0",
            "_model_name": "LayoutModel",
            "_view_count": null,
            "_view_module": "@jupyter-widgets/base",
            "_view_module_version": "1.2.0",
            "_view_name": "LayoutView",
            "align_content": null,
            "align_items": null,
            "align_self": null,
            "border": null,
            "bottom": null,
            "display": null,
            "flex": null,
            "flex_flow": null,
            "grid_area": null,
            "grid_auto_columns": null,
            "grid_auto_flow": null,
            "grid_auto_rows": null,
            "grid_column": null,
            "grid_gap": null,
            "grid_row": null,
            "grid_template_areas": null,
            "grid_template_columns": null,
            "grid_template_rows": null,
            "height": null,
            "justify_content": null,
            "justify_items": null,
            "left": null,
            "margin": null,
            "max_height": null,
            "max_width": null,
            "min_height": null,
            "min_width": null,
            "object_fit": null,
            "object_position": null,
            "order": null,
            "overflow": null,
            "overflow_x": null,
            "overflow_y": null,
            "padding": null,
            "right": null,
            "top": null,
            "visibility": null,
            "width": null
          }
        },
        "10a133438b06489ea73a0de26a285759": {
          "model_module": "@jupyter-widgets/controls",
          "model_name": "DescriptionStyleModel",
          "model_module_version": "1.5.0",
          "state": {
            "_model_module": "@jupyter-widgets/controls",
            "_model_module_version": "1.5.0",
            "_model_name": "DescriptionStyleModel",
            "_view_count": null,
            "_view_module": "@jupyter-widgets/base",
            "_view_module_version": "1.2.0",
            "_view_name": "StyleView",
            "description_width": ""
          }
        },
        "312f46ef0f064c09896affa559c7a3af": {
          "model_module": "@jupyter-widgets/base",
          "model_name": "LayoutModel",
          "model_module_version": "1.2.0",
          "state": {
            "_model_module": "@jupyter-widgets/base",
            "_model_module_version": "1.2.0",
            "_model_name": "LayoutModel",
            "_view_count": null,
            "_view_module": "@jupyter-widgets/base",
            "_view_module_version": "1.2.0",
            "_view_name": "LayoutView",
            "align_content": null,
            "align_items": null,
            "align_self": null,
            "border": null,
            "bottom": null,
            "display": null,
            "flex": null,
            "flex_flow": null,
            "grid_area": null,
            "grid_auto_columns": null,
            "grid_auto_flow": null,
            "grid_auto_rows": null,
            "grid_column": null,
            "grid_gap": null,
            "grid_row": null,
            "grid_template_areas": null,
            "grid_template_columns": null,
            "grid_template_rows": null,
            "height": null,
            "justify_content": null,
            "justify_items": null,
            "left": null,
            "margin": null,
            "max_height": null,
            "max_width": null,
            "min_height": null,
            "min_width": null,
            "object_fit": null,
            "object_position": null,
            "order": null,
            "overflow": null,
            "overflow_x": null,
            "overflow_y": null,
            "padding": null,
            "right": null,
            "top": null,
            "visibility": null,
            "width": null
          }
        },
        "3f2fc30480de492883b9a991385e9a63": {
          "model_module": "@jupyter-widgets/controls",
          "model_name": "ProgressStyleModel",
          "model_module_version": "1.5.0",
          "state": {
            "_model_module": "@jupyter-widgets/controls",
            "_model_module_version": "1.5.0",
            "_model_name": "ProgressStyleModel",
            "_view_count": null,
            "_view_module": "@jupyter-widgets/base",
            "_view_module_version": "1.2.0",
            "_view_name": "StyleView",
            "bar_color": null,
            "description_width": ""
          }
        },
        "d959c4494dc54f4aa898586cf2eb5d83": {
          "model_module": "@jupyter-widgets/base",
          "model_name": "LayoutModel",
          "model_module_version": "1.2.0",
          "state": {
            "_model_module": "@jupyter-widgets/base",
            "_model_module_version": "1.2.0",
            "_model_name": "LayoutModel",
            "_view_count": null,
            "_view_module": "@jupyter-widgets/base",
            "_view_module_version": "1.2.0",
            "_view_name": "LayoutView",
            "align_content": null,
            "align_items": null,
            "align_self": null,
            "border": null,
            "bottom": null,
            "display": null,
            "flex": null,
            "flex_flow": null,
            "grid_area": null,
            "grid_auto_columns": null,
            "grid_auto_flow": null,
            "grid_auto_rows": null,
            "grid_column": null,
            "grid_gap": null,
            "grid_row": null,
            "grid_template_areas": null,
            "grid_template_columns": null,
            "grid_template_rows": null,
            "height": null,
            "justify_content": null,
            "justify_items": null,
            "left": null,
            "margin": null,
            "max_height": null,
            "max_width": null,
            "min_height": null,
            "min_width": null,
            "object_fit": null,
            "object_position": null,
            "order": null,
            "overflow": null,
            "overflow_x": null,
            "overflow_y": null,
            "padding": null,
            "right": null,
            "top": null,
            "visibility": null,
            "width": null
          }
        },
        "1f70522924874117a5e287586ce0525f": {
          "model_module": "@jupyter-widgets/controls",
          "model_name": "DescriptionStyleModel",
          "model_module_version": "1.5.0",
          "state": {
            "_model_module": "@jupyter-widgets/controls",
            "_model_module_version": "1.5.0",
            "_model_name": "DescriptionStyleModel",
            "_view_count": null,
            "_view_module": "@jupyter-widgets/base",
            "_view_module_version": "1.2.0",
            "_view_name": "StyleView",
            "description_width": ""
          }
        },
        "fc14941486c84b79bbb5b714dec176c0": {
          "model_module": "@jupyter-widgets/controls",
          "model_name": "HBoxModel",
          "model_module_version": "1.5.0",
          "state": {
            "_dom_classes": [],
            "_model_module": "@jupyter-widgets/controls",
            "_model_module_version": "1.5.0",
            "_model_name": "HBoxModel",
            "_view_count": null,
            "_view_module": "@jupyter-widgets/controls",
            "_view_module_version": "1.5.0",
            "_view_name": "HBoxView",
            "box_style": "",
            "children": [
              "IPY_MODEL_d413183fba0c4de485a0953a006581f4",
              "IPY_MODEL_ac4888284e6b404bad01062f2dc59750",
              "IPY_MODEL_1ca19de06a52425487b89e94cc9635ea"
            ],
            "layout": "IPY_MODEL_9bfb772da5e243ec9391f93aa0cf7859"
          }
        },
        "d413183fba0c4de485a0953a006581f4": {
          "model_module": "@jupyter-widgets/controls",
          "model_name": "HTMLModel",
          "model_module_version": "1.5.0",
          "state": {
            "_dom_classes": [],
            "_model_module": "@jupyter-widgets/controls",
            "_model_module_version": "1.5.0",
            "_model_name": "HTMLModel",
            "_view_count": null,
            "_view_module": "@jupyter-widgets/controls",
            "_view_module_version": "1.5.0",
            "_view_name": "HTMLView",
            "description": "",
            "description_tooltip": null,
            "layout": "IPY_MODEL_9105d641e4594c9683a324d2fad7062d",
            "placeholder": "​",
            "style": "IPY_MODEL_ee937fc18a0f4061a2b91f3c107ae621",
            "value": "Map: 100%"
          }
        },
        "ac4888284e6b404bad01062f2dc59750": {
          "model_module": "@jupyter-widgets/controls",
          "model_name": "FloatProgressModel",
          "model_module_version": "1.5.0",
          "state": {
            "_dom_classes": [],
            "_model_module": "@jupyter-widgets/controls",
            "_model_module_version": "1.5.0",
            "_model_name": "FloatProgressModel",
            "_view_count": null,
            "_view_module": "@jupyter-widgets/controls",
            "_view_module_version": "1.5.0",
            "_view_name": "ProgressView",
            "bar_style": "success",
            "description": "",
            "description_tooltip": null,
            "layout": "IPY_MODEL_db852f742814406fb1ffe84a8f3225a4",
            "max": 192,
            "min": 0,
            "orientation": "horizontal",
            "style": "IPY_MODEL_62853cc182284f6db45869de564654be",
            "value": 192
          }
        },
        "1ca19de06a52425487b89e94cc9635ea": {
          "model_module": "@jupyter-widgets/controls",
          "model_name": "HTMLModel",
          "model_module_version": "1.5.0",
          "state": {
            "_dom_classes": [],
            "_model_module": "@jupyter-widgets/controls",
            "_model_module_version": "1.5.0",
            "_model_name": "HTMLModel",
            "_view_count": null,
            "_view_module": "@jupyter-widgets/controls",
            "_view_module_version": "1.5.0",
            "_view_name": "HTMLView",
            "description": "",
            "description_tooltip": null,
            "layout": "IPY_MODEL_cbadc09434484a56bd710414caddad2a",
            "placeholder": "​",
            "style": "IPY_MODEL_18eafa689ecf4db9be34dee303c243f8",
            "value": " 192/192 [00:00&lt;00:00, 2097.38 examples/s]"
          }
        },
        "9bfb772da5e243ec9391f93aa0cf7859": {
          "model_module": "@jupyter-widgets/base",
          "model_name": "LayoutModel",
          "model_module_version": "1.2.0",
          "state": {
            "_model_module": "@jupyter-widgets/base",
            "_model_module_version": "1.2.0",
            "_model_name": "LayoutModel",
            "_view_count": null,
            "_view_module": "@jupyter-widgets/base",
            "_view_module_version": "1.2.0",
            "_view_name": "LayoutView",
            "align_content": null,
            "align_items": null,
            "align_self": null,
            "border": null,
            "bottom": null,
            "display": null,
            "flex": null,
            "flex_flow": null,
            "grid_area": null,
            "grid_auto_columns": null,
            "grid_auto_flow": null,
            "grid_auto_rows": null,
            "grid_column": null,
            "grid_gap": null,
            "grid_row": null,
            "grid_template_areas": null,
            "grid_template_columns": null,
            "grid_template_rows": null,
            "height": null,
            "justify_content": null,
            "justify_items": null,
            "left": null,
            "margin": null,
            "max_height": null,
            "max_width": null,
            "min_height": null,
            "min_width": null,
            "object_fit": null,
            "object_position": null,
            "order": null,
            "overflow": null,
            "overflow_x": null,
            "overflow_y": null,
            "padding": null,
            "right": null,
            "top": null,
            "visibility": null,
            "width": null
          }
        },
        "9105d641e4594c9683a324d2fad7062d": {
          "model_module": "@jupyter-widgets/base",
          "model_name": "LayoutModel",
          "model_module_version": "1.2.0",
          "state": {
            "_model_module": "@jupyter-widgets/base",
            "_model_module_version": "1.2.0",
            "_model_name": "LayoutModel",
            "_view_count": null,
            "_view_module": "@jupyter-widgets/base",
            "_view_module_version": "1.2.0",
            "_view_name": "LayoutView",
            "align_content": null,
            "align_items": null,
            "align_self": null,
            "border": null,
            "bottom": null,
            "display": null,
            "flex": null,
            "flex_flow": null,
            "grid_area": null,
            "grid_auto_columns": null,
            "grid_auto_flow": null,
            "grid_auto_rows": null,
            "grid_column": null,
            "grid_gap": null,
            "grid_row": null,
            "grid_template_areas": null,
            "grid_template_columns": null,
            "grid_template_rows": null,
            "height": null,
            "justify_content": null,
            "justify_items": null,
            "left": null,
            "margin": null,
            "max_height": null,
            "max_width": null,
            "min_height": null,
            "min_width": null,
            "object_fit": null,
            "object_position": null,
            "order": null,
            "overflow": null,
            "overflow_x": null,
            "overflow_y": null,
            "padding": null,
            "right": null,
            "top": null,
            "visibility": null,
            "width": null
          }
        },
        "ee937fc18a0f4061a2b91f3c107ae621": {
          "model_module": "@jupyter-widgets/controls",
          "model_name": "DescriptionStyleModel",
          "model_module_version": "1.5.0",
          "state": {
            "_model_module": "@jupyter-widgets/controls",
            "_model_module_version": "1.5.0",
            "_model_name": "DescriptionStyleModel",
            "_view_count": null,
            "_view_module": "@jupyter-widgets/base",
            "_view_module_version": "1.2.0",
            "_view_name": "StyleView",
            "description_width": ""
          }
        },
        "db852f742814406fb1ffe84a8f3225a4": {
          "model_module": "@jupyter-widgets/base",
          "model_name": "LayoutModel",
          "model_module_version": "1.2.0",
          "state": {
            "_model_module": "@jupyter-widgets/base",
            "_model_module_version": "1.2.0",
            "_model_name": "LayoutModel",
            "_view_count": null,
            "_view_module": "@jupyter-widgets/base",
            "_view_module_version": "1.2.0",
            "_view_name": "LayoutView",
            "align_content": null,
            "align_items": null,
            "align_self": null,
            "border": null,
            "bottom": null,
            "display": null,
            "flex": null,
            "flex_flow": null,
            "grid_area": null,
            "grid_auto_columns": null,
            "grid_auto_flow": null,
            "grid_auto_rows": null,
            "grid_column": null,
            "grid_gap": null,
            "grid_row": null,
            "grid_template_areas": null,
            "grid_template_columns": null,
            "grid_template_rows": null,
            "height": null,
            "justify_content": null,
            "justify_items": null,
            "left": null,
            "margin": null,
            "max_height": null,
            "max_width": null,
            "min_height": null,
            "min_width": null,
            "object_fit": null,
            "object_position": null,
            "order": null,
            "overflow": null,
            "overflow_x": null,
            "overflow_y": null,
            "padding": null,
            "right": null,
            "top": null,
            "visibility": null,
            "width": null
          }
        },
        "62853cc182284f6db45869de564654be": {
          "model_module": "@jupyter-widgets/controls",
          "model_name": "ProgressStyleModel",
          "model_module_version": "1.5.0",
          "state": {
            "_model_module": "@jupyter-widgets/controls",
            "_model_module_version": "1.5.0",
            "_model_name": "ProgressStyleModel",
            "_view_count": null,
            "_view_module": "@jupyter-widgets/base",
            "_view_module_version": "1.2.0",
            "_view_name": "StyleView",
            "bar_color": null,
            "description_width": ""
          }
        },
        "cbadc09434484a56bd710414caddad2a": {
          "model_module": "@jupyter-widgets/base",
          "model_name": "LayoutModel",
          "model_module_version": "1.2.0",
          "state": {
            "_model_module": "@jupyter-widgets/base",
            "_model_module_version": "1.2.0",
            "_model_name": "LayoutModel",
            "_view_count": null,
            "_view_module": "@jupyter-widgets/base",
            "_view_module_version": "1.2.0",
            "_view_name": "LayoutView",
            "align_content": null,
            "align_items": null,
            "align_self": null,
            "border": null,
            "bottom": null,
            "display": null,
            "flex": null,
            "flex_flow": null,
            "grid_area": null,
            "grid_auto_columns": null,
            "grid_auto_flow": null,
            "grid_auto_rows": null,
            "grid_column": null,
            "grid_gap": null,
            "grid_row": null,
            "grid_template_areas": null,
            "grid_template_columns": null,
            "grid_template_rows": null,
            "height": null,
            "justify_content": null,
            "justify_items": null,
            "left": null,
            "margin": null,
            "max_height": null,
            "max_width": null,
            "min_height": null,
            "min_width": null,
            "object_fit": null,
            "object_position": null,
            "order": null,
            "overflow": null,
            "overflow_x": null,
            "overflow_y": null,
            "padding": null,
            "right": null,
            "top": null,
            "visibility": null,
            "width": null
          }
        },
        "18eafa689ecf4db9be34dee303c243f8": {
          "model_module": "@jupyter-widgets/controls",
          "model_name": "DescriptionStyleModel",
          "model_module_version": "1.5.0",
          "state": {
            "_model_module": "@jupyter-widgets/controls",
            "_model_module_version": "1.5.0",
            "_model_name": "DescriptionStyleModel",
            "_view_count": null,
            "_view_module": "@jupyter-widgets/base",
            "_view_module_version": "1.2.0",
            "_view_name": "StyleView",
            "description_width": ""
          }
        },
        "eb9c8285a75a47c7b9b7a4ee7e7e77ba": {
          "model_module": "@jupyter-widgets/controls",
          "model_name": "VBoxModel",
          "model_module_version": "1.5.0",
          "state": {
            "_dom_classes": [],
            "_model_module": "@jupyter-widgets/controls",
            "_model_module_version": "1.5.0",
            "_model_name": "VBoxModel",
            "_view_count": null,
            "_view_module": "@jupyter-widgets/controls",
            "_view_module_version": "1.5.0",
            "_view_name": "VBoxView",
            "box_style": "",
            "children": [
              "IPY_MODEL_57ec8fa0d38449f89a1f4f29aded11aa",
              "IPY_MODEL_aab091918d4b4416b0d81f8626035e71",
              "IPY_MODEL_276e89c15cff41dab3d10aea1879fa88",
              "IPY_MODEL_8c186c6bca5347d8bfd30618c51e0216"
            ],
            "layout": "IPY_MODEL_6bc365a0b02143b5a49e495ad4f5b487"
          }
        },
        "852a0f72bc4240bca3b8b2b24926722f": {
          "model_module": "@jupyter-widgets/controls",
          "model_name": "HTMLModel",
          "model_module_version": "1.5.0",
          "state": {
            "_dom_classes": [],
            "_model_module": "@jupyter-widgets/controls",
            "_model_module_version": "1.5.0",
            "_model_name": "HTMLModel",
            "_view_count": null,
            "_view_module": "@jupyter-widgets/controls",
            "_view_module_version": "1.5.0",
            "_view_name": "HTMLView",
            "description": "",
            "description_tooltip": null,
            "layout": "IPY_MODEL_778a5b2ae73845f48edd7178f4c0b433",
            "placeholder": "​",
            "style": "IPY_MODEL_be1d4b6bbd3d41c6b6761f77b11ac79b",
            "value": "<center> <img\nsrc=https://huggingface.co/front/assets/huggingface_logo-noborder.svg\nalt='Hugging Face'> <br> Copy a token from <a\nhref=\"https://huggingface.co/settings/tokens\" target=\"_blank\">your Hugging Face\ntokens page</a> and paste it below. <br> Immediately click login after copying\nyour token or it might be stored in plain text in this notebook file. </center>"
          }
        },
        "acebf0e93fb0477ba5148d518e9c796f": {
          "model_module": "@jupyter-widgets/controls",
          "model_name": "PasswordModel",
          "model_module_version": "1.5.0",
          "state": {
            "_dom_classes": [],
            "_model_module": "@jupyter-widgets/controls",
            "_model_module_version": "1.5.0",
            "_model_name": "PasswordModel",
            "_view_count": null,
            "_view_module": "@jupyter-widgets/controls",
            "_view_module_version": "1.5.0",
            "_view_name": "PasswordView",
            "continuous_update": true,
            "description": "Token:",
            "description_tooltip": null,
            "disabled": false,
            "layout": "IPY_MODEL_b52f048c5a2245889232add1581ed651",
            "placeholder": "​",
            "style": "IPY_MODEL_b783588473da4e2988c4855ac5b0fb5d",
            "value": ""
          }
        },
        "87b5e32f432d49c29c718d9f7eb62e03": {
          "model_module": "@jupyter-widgets/controls",
          "model_name": "CheckboxModel",
          "model_module_version": "1.5.0",
          "state": {
            "_dom_classes": [],
            "_model_module": "@jupyter-widgets/controls",
            "_model_module_version": "1.5.0",
            "_model_name": "CheckboxModel",
            "_view_count": null,
            "_view_module": "@jupyter-widgets/controls",
            "_view_module_version": "1.5.0",
            "_view_name": "CheckboxView",
            "description": "Add token as git credential?",
            "description_tooltip": null,
            "disabled": false,
            "indent": true,
            "layout": "IPY_MODEL_f442451e61cb4d8eaf1436449c41a454",
            "style": "IPY_MODEL_5170323d7b5b4da08954d1653cc77bb8",
            "value": true
          }
        },
        "16cc615777a54d9593d7be41e4bc9640": {
          "model_module": "@jupyter-widgets/controls",
          "model_name": "ButtonModel",
          "model_module_version": "1.5.0",
          "state": {
            "_dom_classes": [],
            "_model_module": "@jupyter-widgets/controls",
            "_model_module_version": "1.5.0",
            "_model_name": "ButtonModel",
            "_view_count": null,
            "_view_module": "@jupyter-widgets/controls",
            "_view_module_version": "1.5.0",
            "_view_name": "ButtonView",
            "button_style": "",
            "description": "Login",
            "disabled": false,
            "icon": "",
            "layout": "IPY_MODEL_99b0f9d671e6467db23b6791cd27dde1",
            "style": "IPY_MODEL_2633d2b80a1a4e77b82aaab6fa262179",
            "tooltip": ""
          }
        },
        "b8a5af26d4a64ca3a4dcac4ff628b17d": {
          "model_module": "@jupyter-widgets/controls",
          "model_name": "HTMLModel",
          "model_module_version": "1.5.0",
          "state": {
            "_dom_classes": [],
            "_model_module": "@jupyter-widgets/controls",
            "_model_module_version": "1.5.0",
            "_model_name": "HTMLModel",
            "_view_count": null,
            "_view_module": "@jupyter-widgets/controls",
            "_view_module_version": "1.5.0",
            "_view_name": "HTMLView",
            "description": "",
            "description_tooltip": null,
            "layout": "IPY_MODEL_f4e3c4a338ba43a4a94ce138466a3878",
            "placeholder": "​",
            "style": "IPY_MODEL_9b31243fd154489ebc84883939b6758b",
            "value": "\n<b>Pro Tip:</b> If you don't already have one, you can create a dedicated\n'notebooks' token with 'write' access, that you can then easily reuse for all\nnotebooks. </center>"
          }
        },
        "6bc365a0b02143b5a49e495ad4f5b487": {
          "model_module": "@jupyter-widgets/base",
          "model_name": "LayoutModel",
          "model_module_version": "1.2.0",
          "state": {
            "_model_module": "@jupyter-widgets/base",
            "_model_module_version": "1.2.0",
            "_model_name": "LayoutModel",
            "_view_count": null,
            "_view_module": "@jupyter-widgets/base",
            "_view_module_version": "1.2.0",
            "_view_name": "LayoutView",
            "align_content": null,
            "align_items": "center",
            "align_self": null,
            "border": null,
            "bottom": null,
            "display": "flex",
            "flex": null,
            "flex_flow": "column",
            "grid_area": null,
            "grid_auto_columns": null,
            "grid_auto_flow": null,
            "grid_auto_rows": null,
            "grid_column": null,
            "grid_gap": null,
            "grid_row": null,
            "grid_template_areas": null,
            "grid_template_columns": null,
            "grid_template_rows": null,
            "height": null,
            "justify_content": null,
            "justify_items": null,
            "left": null,
            "margin": null,
            "max_height": null,
            "max_width": null,
            "min_height": null,
            "min_width": null,
            "object_fit": null,
            "object_position": null,
            "order": null,
            "overflow": null,
            "overflow_x": null,
            "overflow_y": null,
            "padding": null,
            "right": null,
            "top": null,
            "visibility": null,
            "width": "50%"
          }
        },
        "778a5b2ae73845f48edd7178f4c0b433": {
          "model_module": "@jupyter-widgets/base",
          "model_name": "LayoutModel",
          "model_module_version": "1.2.0",
          "state": {
            "_model_module": "@jupyter-widgets/base",
            "_model_module_version": "1.2.0",
            "_model_name": "LayoutModel",
            "_view_count": null,
            "_view_module": "@jupyter-widgets/base",
            "_view_module_version": "1.2.0",
            "_view_name": "LayoutView",
            "align_content": null,
            "align_items": null,
            "align_self": null,
            "border": null,
            "bottom": null,
            "display": null,
            "flex": null,
            "flex_flow": null,
            "grid_area": null,
            "grid_auto_columns": null,
            "grid_auto_flow": null,
            "grid_auto_rows": null,
            "grid_column": null,
            "grid_gap": null,
            "grid_row": null,
            "grid_template_areas": null,
            "grid_template_columns": null,
            "grid_template_rows": null,
            "height": null,
            "justify_content": null,
            "justify_items": null,
            "left": null,
            "margin": null,
            "max_height": null,
            "max_width": null,
            "min_height": null,
            "min_width": null,
            "object_fit": null,
            "object_position": null,
            "order": null,
            "overflow": null,
            "overflow_x": null,
            "overflow_y": null,
            "padding": null,
            "right": null,
            "top": null,
            "visibility": null,
            "width": null
          }
        },
        "be1d4b6bbd3d41c6b6761f77b11ac79b": {
          "model_module": "@jupyter-widgets/controls",
          "model_name": "DescriptionStyleModel",
          "model_module_version": "1.5.0",
          "state": {
            "_model_module": "@jupyter-widgets/controls",
            "_model_module_version": "1.5.0",
            "_model_name": "DescriptionStyleModel",
            "_view_count": null,
            "_view_module": "@jupyter-widgets/base",
            "_view_module_version": "1.2.0",
            "_view_name": "StyleView",
            "description_width": ""
          }
        },
        "b52f048c5a2245889232add1581ed651": {
          "model_module": "@jupyter-widgets/base",
          "model_name": "LayoutModel",
          "model_module_version": "1.2.0",
          "state": {
            "_model_module": "@jupyter-widgets/base",
            "_model_module_version": "1.2.0",
            "_model_name": "LayoutModel",
            "_view_count": null,
            "_view_module": "@jupyter-widgets/base",
            "_view_module_version": "1.2.0",
            "_view_name": "LayoutView",
            "align_content": null,
            "align_items": null,
            "align_self": null,
            "border": null,
            "bottom": null,
            "display": null,
            "flex": null,
            "flex_flow": null,
            "grid_area": null,
            "grid_auto_columns": null,
            "grid_auto_flow": null,
            "grid_auto_rows": null,
            "grid_column": null,
            "grid_gap": null,
            "grid_row": null,
            "grid_template_areas": null,
            "grid_template_columns": null,
            "grid_template_rows": null,
            "height": null,
            "justify_content": null,
            "justify_items": null,
            "left": null,
            "margin": null,
            "max_height": null,
            "max_width": null,
            "min_height": null,
            "min_width": null,
            "object_fit": null,
            "object_position": null,
            "order": null,
            "overflow": null,
            "overflow_x": null,
            "overflow_y": null,
            "padding": null,
            "right": null,
            "top": null,
            "visibility": null,
            "width": null
          }
        },
        "b783588473da4e2988c4855ac5b0fb5d": {
          "model_module": "@jupyter-widgets/controls",
          "model_name": "DescriptionStyleModel",
          "model_module_version": "1.5.0",
          "state": {
            "_model_module": "@jupyter-widgets/controls",
            "_model_module_version": "1.5.0",
            "_model_name": "DescriptionStyleModel",
            "_view_count": null,
            "_view_module": "@jupyter-widgets/base",
            "_view_module_version": "1.2.0",
            "_view_name": "StyleView",
            "description_width": ""
          }
        },
        "f442451e61cb4d8eaf1436449c41a454": {
          "model_module": "@jupyter-widgets/base",
          "model_name": "LayoutModel",
          "model_module_version": "1.2.0",
          "state": {
            "_model_module": "@jupyter-widgets/base",
            "_model_module_version": "1.2.0",
            "_model_name": "LayoutModel",
            "_view_count": null,
            "_view_module": "@jupyter-widgets/base",
            "_view_module_version": "1.2.0",
            "_view_name": "LayoutView",
            "align_content": null,
            "align_items": null,
            "align_self": null,
            "border": null,
            "bottom": null,
            "display": null,
            "flex": null,
            "flex_flow": null,
            "grid_area": null,
            "grid_auto_columns": null,
            "grid_auto_flow": null,
            "grid_auto_rows": null,
            "grid_column": null,
            "grid_gap": null,
            "grid_row": null,
            "grid_template_areas": null,
            "grid_template_columns": null,
            "grid_template_rows": null,
            "height": null,
            "justify_content": null,
            "justify_items": null,
            "left": null,
            "margin": null,
            "max_height": null,
            "max_width": null,
            "min_height": null,
            "min_width": null,
            "object_fit": null,
            "object_position": null,
            "order": null,
            "overflow": null,
            "overflow_x": null,
            "overflow_y": null,
            "padding": null,
            "right": null,
            "top": null,
            "visibility": null,
            "width": null
          }
        },
        "5170323d7b5b4da08954d1653cc77bb8": {
          "model_module": "@jupyter-widgets/controls",
          "model_name": "DescriptionStyleModel",
          "model_module_version": "1.5.0",
          "state": {
            "_model_module": "@jupyter-widgets/controls",
            "_model_module_version": "1.5.0",
            "_model_name": "DescriptionStyleModel",
            "_view_count": null,
            "_view_module": "@jupyter-widgets/base",
            "_view_module_version": "1.2.0",
            "_view_name": "StyleView",
            "description_width": ""
          }
        },
        "99b0f9d671e6467db23b6791cd27dde1": {
          "model_module": "@jupyter-widgets/base",
          "model_name": "LayoutModel",
          "model_module_version": "1.2.0",
          "state": {
            "_model_module": "@jupyter-widgets/base",
            "_model_module_version": "1.2.0",
            "_model_name": "LayoutModel",
            "_view_count": null,
            "_view_module": "@jupyter-widgets/base",
            "_view_module_version": "1.2.0",
            "_view_name": "LayoutView",
            "align_content": null,
            "align_items": null,
            "align_self": null,
            "border": null,
            "bottom": null,
            "display": null,
            "flex": null,
            "flex_flow": null,
            "grid_area": null,
            "grid_auto_columns": null,
            "grid_auto_flow": null,
            "grid_auto_rows": null,
            "grid_column": null,
            "grid_gap": null,
            "grid_row": null,
            "grid_template_areas": null,
            "grid_template_columns": null,
            "grid_template_rows": null,
            "height": null,
            "justify_content": null,
            "justify_items": null,
            "left": null,
            "margin": null,
            "max_height": null,
            "max_width": null,
            "min_height": null,
            "min_width": null,
            "object_fit": null,
            "object_position": null,
            "order": null,
            "overflow": null,
            "overflow_x": null,
            "overflow_y": null,
            "padding": null,
            "right": null,
            "top": null,
            "visibility": null,
            "width": null
          }
        },
        "2633d2b80a1a4e77b82aaab6fa262179": {
          "model_module": "@jupyter-widgets/controls",
          "model_name": "ButtonStyleModel",
          "model_module_version": "1.5.0",
          "state": {
            "_model_module": "@jupyter-widgets/controls",
            "_model_module_version": "1.5.0",
            "_model_name": "ButtonStyleModel",
            "_view_count": null,
            "_view_module": "@jupyter-widgets/base",
            "_view_module_version": "1.2.0",
            "_view_name": "StyleView",
            "button_color": null,
            "font_weight": ""
          }
        },
        "f4e3c4a338ba43a4a94ce138466a3878": {
          "model_module": "@jupyter-widgets/base",
          "model_name": "LayoutModel",
          "model_module_version": "1.2.0",
          "state": {
            "_model_module": "@jupyter-widgets/base",
            "_model_module_version": "1.2.0",
            "_model_name": "LayoutModel",
            "_view_count": null,
            "_view_module": "@jupyter-widgets/base",
            "_view_module_version": "1.2.0",
            "_view_name": "LayoutView",
            "align_content": null,
            "align_items": null,
            "align_self": null,
            "border": null,
            "bottom": null,
            "display": null,
            "flex": null,
            "flex_flow": null,
            "grid_area": null,
            "grid_auto_columns": null,
            "grid_auto_flow": null,
            "grid_auto_rows": null,
            "grid_column": null,
            "grid_gap": null,
            "grid_row": null,
            "grid_template_areas": null,
            "grid_template_columns": null,
            "grid_template_rows": null,
            "height": null,
            "justify_content": null,
            "justify_items": null,
            "left": null,
            "margin": null,
            "max_height": null,
            "max_width": null,
            "min_height": null,
            "min_width": null,
            "object_fit": null,
            "object_position": null,
            "order": null,
            "overflow": null,
            "overflow_x": null,
            "overflow_y": null,
            "padding": null,
            "right": null,
            "top": null,
            "visibility": null,
            "width": null
          }
        },
        "9b31243fd154489ebc84883939b6758b": {
          "model_module": "@jupyter-widgets/controls",
          "model_name": "DescriptionStyleModel",
          "model_module_version": "1.5.0",
          "state": {
            "_model_module": "@jupyter-widgets/controls",
            "_model_module_version": "1.5.0",
            "_model_name": "DescriptionStyleModel",
            "_view_count": null,
            "_view_module": "@jupyter-widgets/base",
            "_view_module_version": "1.2.0",
            "_view_name": "StyleView",
            "description_width": ""
          }
        },
        "6fbc743f540f46e1a3bbaa0b72de985a": {
          "model_module": "@jupyter-widgets/controls",
          "model_name": "LabelModel",
          "model_module_version": "1.5.0",
          "state": {
            "_dom_classes": [],
            "_model_module": "@jupyter-widgets/controls",
            "_model_module_version": "1.5.0",
            "_model_name": "LabelModel",
            "_view_count": null,
            "_view_module": "@jupyter-widgets/controls",
            "_view_module_version": "1.5.0",
            "_view_name": "LabelView",
            "description": "",
            "description_tooltip": null,
            "layout": "IPY_MODEL_f2fc709f1bbf490ab0df6204e479252e",
            "placeholder": "​",
            "style": "IPY_MODEL_fa79fb605f6b45baacd5ff74306821d7",
            "value": "Connecting..."
          }
        },
        "f2fc709f1bbf490ab0df6204e479252e": {
          "model_module": "@jupyter-widgets/base",
          "model_name": "LayoutModel",
          "model_module_version": "1.2.0",
          "state": {
            "_model_module": "@jupyter-widgets/base",
            "_model_module_version": "1.2.0",
            "_model_name": "LayoutModel",
            "_view_count": null,
            "_view_module": "@jupyter-widgets/base",
            "_view_module_version": "1.2.0",
            "_view_name": "LayoutView",
            "align_content": null,
            "align_items": null,
            "align_self": null,
            "border": null,
            "bottom": null,
            "display": null,
            "flex": null,
            "flex_flow": null,
            "grid_area": null,
            "grid_auto_columns": null,
            "grid_auto_flow": null,
            "grid_auto_rows": null,
            "grid_column": null,
            "grid_gap": null,
            "grid_row": null,
            "grid_template_areas": null,
            "grid_template_columns": null,
            "grid_template_rows": null,
            "height": null,
            "justify_content": null,
            "justify_items": null,
            "left": null,
            "margin": null,
            "max_height": null,
            "max_width": null,
            "min_height": null,
            "min_width": null,
            "object_fit": null,
            "object_position": null,
            "order": null,
            "overflow": null,
            "overflow_x": null,
            "overflow_y": null,
            "padding": null,
            "right": null,
            "top": null,
            "visibility": null,
            "width": null
          }
        },
        "fa79fb605f6b45baacd5ff74306821d7": {
          "model_module": "@jupyter-widgets/controls",
          "model_name": "DescriptionStyleModel",
          "model_module_version": "1.5.0",
          "state": {
            "_model_module": "@jupyter-widgets/controls",
            "_model_module_version": "1.5.0",
            "_model_name": "DescriptionStyleModel",
            "_view_count": null,
            "_view_module": "@jupyter-widgets/base",
            "_view_module_version": "1.2.0",
            "_view_name": "StyleView",
            "description_width": ""
          }
        },
        "57ec8fa0d38449f89a1f4f29aded11aa": {
          "model_module": "@jupyter-widgets/controls",
          "model_name": "LabelModel",
          "model_module_version": "1.5.0",
          "state": {
            "_dom_classes": [],
            "_model_module": "@jupyter-widgets/controls",
            "_model_module_version": "1.5.0",
            "_model_name": "LabelModel",
            "_view_count": null,
            "_view_module": "@jupyter-widgets/controls",
            "_view_module_version": "1.5.0",
            "_view_name": "LabelView",
            "description": "",
            "description_tooltip": null,
            "layout": "IPY_MODEL_edf7cf5703c642bcba04a3a8a5e22ba4",
            "placeholder": "​",
            "style": "IPY_MODEL_8874cb3f97a84318b6551d0c74614f22",
            "value": "Token is valid (permission: write)."
          }
        },
        "aab091918d4b4416b0d81f8626035e71": {
          "model_module": "@jupyter-widgets/controls",
          "model_name": "LabelModel",
          "model_module_version": "1.5.0",
          "state": {
            "_dom_classes": [],
            "_model_module": "@jupyter-widgets/controls",
            "_model_module_version": "1.5.0",
            "_model_name": "LabelModel",
            "_view_count": null,
            "_view_module": "@jupyter-widgets/controls",
            "_view_module_version": "1.5.0",
            "_view_name": "LabelView",
            "description": "",
            "description_tooltip": null,
            "layout": "IPY_MODEL_17185b17de40452ca2510fea11f2820b",
            "placeholder": "​",
            "style": "IPY_MODEL_784b5f834a4b4c10b2c0e0adf3e9b756",
            "value": "Your token has been saved in your configured git credential helpers (store)."
          }
        },
        "276e89c15cff41dab3d10aea1879fa88": {
          "model_module": "@jupyter-widgets/controls",
          "model_name": "LabelModel",
          "model_module_version": "1.5.0",
          "state": {
            "_dom_classes": [],
            "_model_module": "@jupyter-widgets/controls",
            "_model_module_version": "1.5.0",
            "_model_name": "LabelModel",
            "_view_count": null,
            "_view_module": "@jupyter-widgets/controls",
            "_view_module_version": "1.5.0",
            "_view_name": "LabelView",
            "description": "",
            "description_tooltip": null,
            "layout": "IPY_MODEL_9f62d30f6931417fa1acd6f5eac86400",
            "placeholder": "​",
            "style": "IPY_MODEL_0d5777bce8944ddb94b6259b23d00063",
            "value": "Your token has been saved to /root/.cache/huggingface/token"
          }
        },
        "8c186c6bca5347d8bfd30618c51e0216": {
          "model_module": "@jupyter-widgets/controls",
          "model_name": "LabelModel",
          "model_module_version": "1.5.0",
          "state": {
            "_dom_classes": [],
            "_model_module": "@jupyter-widgets/controls",
            "_model_module_version": "1.5.0",
            "_model_name": "LabelModel",
            "_view_count": null,
            "_view_module": "@jupyter-widgets/controls",
            "_view_module_version": "1.5.0",
            "_view_name": "LabelView",
            "description": "",
            "description_tooltip": null,
            "layout": "IPY_MODEL_d26c66cb655249388a38b23f5a80cfc0",
            "placeholder": "​",
            "style": "IPY_MODEL_07b0009af1424b928615abeb992cf993",
            "value": "Login successful"
          }
        },
        "edf7cf5703c642bcba04a3a8a5e22ba4": {
          "model_module": "@jupyter-widgets/base",
          "model_name": "LayoutModel",
          "model_module_version": "1.2.0",
          "state": {
            "_model_module": "@jupyter-widgets/base",
            "_model_module_version": "1.2.0",
            "_model_name": "LayoutModel",
            "_view_count": null,
            "_view_module": "@jupyter-widgets/base",
            "_view_module_version": "1.2.0",
            "_view_name": "LayoutView",
            "align_content": null,
            "align_items": null,
            "align_self": null,
            "border": null,
            "bottom": null,
            "display": null,
            "flex": null,
            "flex_flow": null,
            "grid_area": null,
            "grid_auto_columns": null,
            "grid_auto_flow": null,
            "grid_auto_rows": null,
            "grid_column": null,
            "grid_gap": null,
            "grid_row": null,
            "grid_template_areas": null,
            "grid_template_columns": null,
            "grid_template_rows": null,
            "height": null,
            "justify_content": null,
            "justify_items": null,
            "left": null,
            "margin": null,
            "max_height": null,
            "max_width": null,
            "min_height": null,
            "min_width": null,
            "object_fit": null,
            "object_position": null,
            "order": null,
            "overflow": null,
            "overflow_x": null,
            "overflow_y": null,
            "padding": null,
            "right": null,
            "top": null,
            "visibility": null,
            "width": null
          }
        },
        "8874cb3f97a84318b6551d0c74614f22": {
          "model_module": "@jupyter-widgets/controls",
          "model_name": "DescriptionStyleModel",
          "model_module_version": "1.5.0",
          "state": {
            "_model_module": "@jupyter-widgets/controls",
            "_model_module_version": "1.5.0",
            "_model_name": "DescriptionStyleModel",
            "_view_count": null,
            "_view_module": "@jupyter-widgets/base",
            "_view_module_version": "1.2.0",
            "_view_name": "StyleView",
            "description_width": ""
          }
        },
        "17185b17de40452ca2510fea11f2820b": {
          "model_module": "@jupyter-widgets/base",
          "model_name": "LayoutModel",
          "model_module_version": "1.2.0",
          "state": {
            "_model_module": "@jupyter-widgets/base",
            "_model_module_version": "1.2.0",
            "_model_name": "LayoutModel",
            "_view_count": null,
            "_view_module": "@jupyter-widgets/base",
            "_view_module_version": "1.2.0",
            "_view_name": "LayoutView",
            "align_content": null,
            "align_items": null,
            "align_self": null,
            "border": null,
            "bottom": null,
            "display": null,
            "flex": null,
            "flex_flow": null,
            "grid_area": null,
            "grid_auto_columns": null,
            "grid_auto_flow": null,
            "grid_auto_rows": null,
            "grid_column": null,
            "grid_gap": null,
            "grid_row": null,
            "grid_template_areas": null,
            "grid_template_columns": null,
            "grid_template_rows": null,
            "height": null,
            "justify_content": null,
            "justify_items": null,
            "left": null,
            "margin": null,
            "max_height": null,
            "max_width": null,
            "min_height": null,
            "min_width": null,
            "object_fit": null,
            "object_position": null,
            "order": null,
            "overflow": null,
            "overflow_x": null,
            "overflow_y": null,
            "padding": null,
            "right": null,
            "top": null,
            "visibility": null,
            "width": null
          }
        },
        "784b5f834a4b4c10b2c0e0adf3e9b756": {
          "model_module": "@jupyter-widgets/controls",
          "model_name": "DescriptionStyleModel",
          "model_module_version": "1.5.0",
          "state": {
            "_model_module": "@jupyter-widgets/controls",
            "_model_module_version": "1.5.0",
            "_model_name": "DescriptionStyleModel",
            "_view_count": null,
            "_view_module": "@jupyter-widgets/base",
            "_view_module_version": "1.2.0",
            "_view_name": "StyleView",
            "description_width": ""
          }
        },
        "9f62d30f6931417fa1acd6f5eac86400": {
          "model_module": "@jupyter-widgets/base",
          "model_name": "LayoutModel",
          "model_module_version": "1.2.0",
          "state": {
            "_model_module": "@jupyter-widgets/base",
            "_model_module_version": "1.2.0",
            "_model_name": "LayoutModel",
            "_view_count": null,
            "_view_module": "@jupyter-widgets/base",
            "_view_module_version": "1.2.0",
            "_view_name": "LayoutView",
            "align_content": null,
            "align_items": null,
            "align_self": null,
            "border": null,
            "bottom": null,
            "display": null,
            "flex": null,
            "flex_flow": null,
            "grid_area": null,
            "grid_auto_columns": null,
            "grid_auto_flow": null,
            "grid_auto_rows": null,
            "grid_column": null,
            "grid_gap": null,
            "grid_row": null,
            "grid_template_areas": null,
            "grid_template_columns": null,
            "grid_template_rows": null,
            "height": null,
            "justify_content": null,
            "justify_items": null,
            "left": null,
            "margin": null,
            "max_height": null,
            "max_width": null,
            "min_height": null,
            "min_width": null,
            "object_fit": null,
            "object_position": null,
            "order": null,
            "overflow": null,
            "overflow_x": null,
            "overflow_y": null,
            "padding": null,
            "right": null,
            "top": null,
            "visibility": null,
            "width": null
          }
        },
        "0d5777bce8944ddb94b6259b23d00063": {
          "model_module": "@jupyter-widgets/controls",
          "model_name": "DescriptionStyleModel",
          "model_module_version": "1.5.0",
          "state": {
            "_model_module": "@jupyter-widgets/controls",
            "_model_module_version": "1.5.0",
            "_model_name": "DescriptionStyleModel",
            "_view_count": null,
            "_view_module": "@jupyter-widgets/base",
            "_view_module_version": "1.2.0",
            "_view_name": "StyleView",
            "description_width": ""
          }
        },
        "d26c66cb655249388a38b23f5a80cfc0": {
          "model_module": "@jupyter-widgets/base",
          "model_name": "LayoutModel",
          "model_module_version": "1.2.0",
          "state": {
            "_model_module": "@jupyter-widgets/base",
            "_model_module_version": "1.2.0",
            "_model_name": "LayoutModel",
            "_view_count": null,
            "_view_module": "@jupyter-widgets/base",
            "_view_module_version": "1.2.0",
            "_view_name": "LayoutView",
            "align_content": null,
            "align_items": null,
            "align_self": null,
            "border": null,
            "bottom": null,
            "display": null,
            "flex": null,
            "flex_flow": null,
            "grid_area": null,
            "grid_auto_columns": null,
            "grid_auto_flow": null,
            "grid_auto_rows": null,
            "grid_column": null,
            "grid_gap": null,
            "grid_row": null,
            "grid_template_areas": null,
            "grid_template_columns": null,
            "grid_template_rows": null,
            "height": null,
            "justify_content": null,
            "justify_items": null,
            "left": null,
            "margin": null,
            "max_height": null,
            "max_width": null,
            "min_height": null,
            "min_width": null,
            "object_fit": null,
            "object_position": null,
            "order": null,
            "overflow": null,
            "overflow_x": null,
            "overflow_y": null,
            "padding": null,
            "right": null,
            "top": null,
            "visibility": null,
            "width": null
          }
        },
        "07b0009af1424b928615abeb992cf993": {
          "model_module": "@jupyter-widgets/controls",
          "model_name": "DescriptionStyleModel",
          "model_module_version": "1.5.0",
          "state": {
            "_model_module": "@jupyter-widgets/controls",
            "_model_module_version": "1.5.0",
            "_model_name": "DescriptionStyleModel",
            "_view_count": null,
            "_view_module": "@jupyter-widgets/base",
            "_view_module_version": "1.2.0",
            "_view_name": "StyleView",
            "description_width": ""
          }
        },
        "b7b51452a86f490590cd6ed501d80dbb": {
          "model_module": "@jupyter-widgets/controls",
          "model_name": "HBoxModel",
          "model_module_version": "1.5.0",
          "state": {
            "_dom_classes": [],
            "_model_module": "@jupyter-widgets/controls",
            "_model_module_version": "1.5.0",
            "_model_name": "HBoxModel",
            "_view_count": null,
            "_view_module": "@jupyter-widgets/controls",
            "_view_module_version": "1.5.0",
            "_view_name": "HBoxView",
            "box_style": "",
            "children": [
              "IPY_MODEL_2feb80cc39314d418ec42cd656c846c5",
              "IPY_MODEL_7a92ae38c36a4db4b1f890a1ae128ee1",
              "IPY_MODEL_16c864f5c9a9433b8e142f587e34e35b"
            ],
            "layout": "IPY_MODEL_d82052f301e24386b2f524dab5d3bfb3"
          }
        },
        "2feb80cc39314d418ec42cd656c846c5": {
          "model_module": "@jupyter-widgets/controls",
          "model_name": "HTMLModel",
          "model_module_version": "1.5.0",
          "state": {
            "_dom_classes": [],
            "_model_module": "@jupyter-widgets/controls",
            "_model_module_version": "1.5.0",
            "_model_name": "HTMLModel",
            "_view_count": null,
            "_view_module": "@jupyter-widgets/controls",
            "_view_module_version": "1.5.0",
            "_view_name": "HTMLView",
            "description": "",
            "description_tooltip": null,
            "layout": "IPY_MODEL_64695855a65845338fe69a5f7fac75dc",
            "placeholder": "​",
            "style": "IPY_MODEL_3ffe894b01684b168766f65381145396",
            "value": "pytorch_model.bin: 100%"
          }
        },
        "7a92ae38c36a4db4b1f890a1ae128ee1": {
          "model_module": "@jupyter-widgets/controls",
          "model_name": "FloatProgressModel",
          "model_module_version": "1.5.0",
          "state": {
            "_dom_classes": [],
            "_model_module": "@jupyter-widgets/controls",
            "_model_module_version": "1.5.0",
            "_model_name": "FloatProgressModel",
            "_view_count": null,
            "_view_module": "@jupyter-widgets/controls",
            "_view_module_version": "1.5.0",
            "_view_name": "ProgressView",
            "bar_style": "success",
            "description": "",
            "description_tooltip": null,
            "layout": "IPY_MODEL_de548ba01c9b4bd1a5eac963c37bbd62",
            "max": 891613774,
            "min": 0,
            "orientation": "horizontal",
            "style": "IPY_MODEL_a430fea5dd1049f7aeebae2bdb9c0b8c",
            "value": 891613774
          }
        },
        "16c864f5c9a9433b8e142f587e34e35b": {
          "model_module": "@jupyter-widgets/controls",
          "model_name": "HTMLModel",
          "model_module_version": "1.5.0",
          "state": {
            "_dom_classes": [],
            "_model_module": "@jupyter-widgets/controls",
            "_model_module_version": "1.5.0",
            "_model_name": "HTMLModel",
            "_view_count": null,
            "_view_module": "@jupyter-widgets/controls",
            "_view_module_version": "1.5.0",
            "_view_name": "HTMLView",
            "description": "",
            "description_tooltip": null,
            "layout": "IPY_MODEL_423bb7c80a4340969ca5438f43d70fe1",
            "placeholder": "​",
            "style": "IPY_MODEL_d9ac37e99c4947098dcef2466e695c99",
            "value": " 892M/892M [00:23&lt;00:00, 34.3MB/s]"
          }
        },
        "d82052f301e24386b2f524dab5d3bfb3": {
          "model_module": "@jupyter-widgets/base",
          "model_name": "LayoutModel",
          "model_module_version": "1.2.0",
          "state": {
            "_model_module": "@jupyter-widgets/base",
            "_model_module_version": "1.2.0",
            "_model_name": "LayoutModel",
            "_view_count": null,
            "_view_module": "@jupyter-widgets/base",
            "_view_module_version": "1.2.0",
            "_view_name": "LayoutView",
            "align_content": null,
            "align_items": null,
            "align_self": null,
            "border": null,
            "bottom": null,
            "display": null,
            "flex": null,
            "flex_flow": null,
            "grid_area": null,
            "grid_auto_columns": null,
            "grid_auto_flow": null,
            "grid_auto_rows": null,
            "grid_column": null,
            "grid_gap": null,
            "grid_row": null,
            "grid_template_areas": null,
            "grid_template_columns": null,
            "grid_template_rows": null,
            "height": null,
            "justify_content": null,
            "justify_items": null,
            "left": null,
            "margin": null,
            "max_height": null,
            "max_width": null,
            "min_height": null,
            "min_width": null,
            "object_fit": null,
            "object_position": null,
            "order": null,
            "overflow": null,
            "overflow_x": null,
            "overflow_y": null,
            "padding": null,
            "right": null,
            "top": null,
            "visibility": null,
            "width": null
          }
        },
        "64695855a65845338fe69a5f7fac75dc": {
          "model_module": "@jupyter-widgets/base",
          "model_name": "LayoutModel",
          "model_module_version": "1.2.0",
          "state": {
            "_model_module": "@jupyter-widgets/base",
            "_model_module_version": "1.2.0",
            "_model_name": "LayoutModel",
            "_view_count": null,
            "_view_module": "@jupyter-widgets/base",
            "_view_module_version": "1.2.0",
            "_view_name": "LayoutView",
            "align_content": null,
            "align_items": null,
            "align_self": null,
            "border": null,
            "bottom": null,
            "display": null,
            "flex": null,
            "flex_flow": null,
            "grid_area": null,
            "grid_auto_columns": null,
            "grid_auto_flow": null,
            "grid_auto_rows": null,
            "grid_column": null,
            "grid_gap": null,
            "grid_row": null,
            "grid_template_areas": null,
            "grid_template_columns": null,
            "grid_template_rows": null,
            "height": null,
            "justify_content": null,
            "justify_items": null,
            "left": null,
            "margin": null,
            "max_height": null,
            "max_width": null,
            "min_height": null,
            "min_width": null,
            "object_fit": null,
            "object_position": null,
            "order": null,
            "overflow": null,
            "overflow_x": null,
            "overflow_y": null,
            "padding": null,
            "right": null,
            "top": null,
            "visibility": null,
            "width": null
          }
        },
        "3ffe894b01684b168766f65381145396": {
          "model_module": "@jupyter-widgets/controls",
          "model_name": "DescriptionStyleModel",
          "model_module_version": "1.5.0",
          "state": {
            "_model_module": "@jupyter-widgets/controls",
            "_model_module_version": "1.5.0",
            "_model_name": "DescriptionStyleModel",
            "_view_count": null,
            "_view_module": "@jupyter-widgets/base",
            "_view_module_version": "1.2.0",
            "_view_name": "StyleView",
            "description_width": ""
          }
        },
        "de548ba01c9b4bd1a5eac963c37bbd62": {
          "model_module": "@jupyter-widgets/base",
          "model_name": "LayoutModel",
          "model_module_version": "1.2.0",
          "state": {
            "_model_module": "@jupyter-widgets/base",
            "_model_module_version": "1.2.0",
            "_model_name": "LayoutModel",
            "_view_count": null,
            "_view_module": "@jupyter-widgets/base",
            "_view_module_version": "1.2.0",
            "_view_name": "LayoutView",
            "align_content": null,
            "align_items": null,
            "align_self": null,
            "border": null,
            "bottom": null,
            "display": null,
            "flex": null,
            "flex_flow": null,
            "grid_area": null,
            "grid_auto_columns": null,
            "grid_auto_flow": null,
            "grid_auto_rows": null,
            "grid_column": null,
            "grid_gap": null,
            "grid_row": null,
            "grid_template_areas": null,
            "grid_template_columns": null,
            "grid_template_rows": null,
            "height": null,
            "justify_content": null,
            "justify_items": null,
            "left": null,
            "margin": null,
            "max_height": null,
            "max_width": null,
            "min_height": null,
            "min_width": null,
            "object_fit": null,
            "object_position": null,
            "order": null,
            "overflow": null,
            "overflow_x": null,
            "overflow_y": null,
            "padding": null,
            "right": null,
            "top": null,
            "visibility": null,
            "width": null
          }
        },
        "a430fea5dd1049f7aeebae2bdb9c0b8c": {
          "model_module": "@jupyter-widgets/controls",
          "model_name": "ProgressStyleModel",
          "model_module_version": "1.5.0",
          "state": {
            "_model_module": "@jupyter-widgets/controls",
            "_model_module_version": "1.5.0",
            "_model_name": "ProgressStyleModel",
            "_view_count": null,
            "_view_module": "@jupyter-widgets/base",
            "_view_module_version": "1.2.0",
            "_view_name": "StyleView",
            "bar_color": null,
            "description_width": ""
          }
        },
        "423bb7c80a4340969ca5438f43d70fe1": {
          "model_module": "@jupyter-widgets/base",
          "model_name": "LayoutModel",
          "model_module_version": "1.2.0",
          "state": {
            "_model_module": "@jupyter-widgets/base",
            "_model_module_version": "1.2.0",
            "_model_name": "LayoutModel",
            "_view_count": null,
            "_view_module": "@jupyter-widgets/base",
            "_view_module_version": "1.2.0",
            "_view_name": "LayoutView",
            "align_content": null,
            "align_items": null,
            "align_self": null,
            "border": null,
            "bottom": null,
            "display": null,
            "flex": null,
            "flex_flow": null,
            "grid_area": null,
            "grid_auto_columns": null,
            "grid_auto_flow": null,
            "grid_auto_rows": null,
            "grid_column": null,
            "grid_gap": null,
            "grid_row": null,
            "grid_template_areas": null,
            "grid_template_columns": null,
            "grid_template_rows": null,
            "height": null,
            "justify_content": null,
            "justify_items": null,
            "left": null,
            "margin": null,
            "max_height": null,
            "max_width": null,
            "min_height": null,
            "min_width": null,
            "object_fit": null,
            "object_position": null,
            "order": null,
            "overflow": null,
            "overflow_x": null,
            "overflow_y": null,
            "padding": null,
            "right": null,
            "top": null,
            "visibility": null,
            "width": null
          }
        },
        "d9ac37e99c4947098dcef2466e695c99": {
          "model_module": "@jupyter-widgets/controls",
          "model_name": "DescriptionStyleModel",
          "model_module_version": "1.5.0",
          "state": {
            "_model_module": "@jupyter-widgets/controls",
            "_model_module_version": "1.5.0",
            "_model_name": "DescriptionStyleModel",
            "_view_count": null,
            "_view_module": "@jupyter-widgets/base",
            "_view_module_version": "1.2.0",
            "_view_name": "StyleView",
            "description_width": ""
          }
        },
        "d4858e40aa3b4444bcf186d7b2831be7": {
          "model_module": "@jupyter-widgets/controls",
          "model_name": "VBoxModel",
          "model_module_version": "1.5.0",
          "state": {
            "_dom_classes": [],
            "_model_module": "@jupyter-widgets/controls",
            "_model_module_version": "1.5.0",
            "_model_name": "VBoxModel",
            "_view_count": null,
            "_view_module": "@jupyter-widgets/controls",
            "_view_module_version": "1.5.0",
            "_view_name": "VBoxView",
            "box_style": "",
            "children": [
              "IPY_MODEL_e05fc4084920439cbf1eee96c2837b8a",
              "IPY_MODEL_f8b72d701c1c466f8b1049a916a0c744"
            ],
            "layout": "IPY_MODEL_4d6fea8ca64940729959d70aaf615f57"
          }
        },
        "e05fc4084920439cbf1eee96c2837b8a": {
          "model_module": "@jupyter-widgets/controls",
          "model_name": "LabelModel",
          "model_module_version": "1.5.0",
          "state": {
            "_dom_classes": [],
            "_model_module": "@jupyter-widgets/controls",
            "_model_module_version": "1.5.0",
            "_model_name": "LabelModel",
            "_view_count": null,
            "_view_module": "@jupyter-widgets/controls",
            "_view_module_version": "1.5.0",
            "_view_name": "LabelView",
            "description": "",
            "description_tooltip": null,
            "layout": "IPY_MODEL_95397650f26446f6af0f7e5d64024a31",
            "placeholder": "​",
            "style": "IPY_MODEL_2cdc91e7785248eb9e835688bedbbd03",
            "value": "0.001 MB of 0.025 MB uploaded (0.000 MB deduped)\r"
          }
        },
        "f8b72d701c1c466f8b1049a916a0c744": {
          "model_module": "@jupyter-widgets/controls",
          "model_name": "FloatProgressModel",
          "model_module_version": "1.5.0",
          "state": {
            "_dom_classes": [],
            "_model_module": "@jupyter-widgets/controls",
            "_model_module_version": "1.5.0",
            "_model_name": "FloatProgressModel",
            "_view_count": null,
            "_view_module": "@jupyter-widgets/controls",
            "_view_module_version": "1.5.0",
            "_view_name": "ProgressView",
            "bar_style": "",
            "description": "",
            "description_tooltip": null,
            "layout": "IPY_MODEL_522e6cb7c9764db2bc6aeeea46350bb0",
            "max": 1,
            "min": 0,
            "orientation": "horizontal",
            "style": "IPY_MODEL_c2442e7e8f774a83b0362c06b889afc6",
            "value": 0.04934032867834272
          }
        },
        "4d6fea8ca64940729959d70aaf615f57": {
          "model_module": "@jupyter-widgets/base",
          "model_name": "LayoutModel",
          "model_module_version": "1.2.0",
          "state": {
            "_model_module": "@jupyter-widgets/base",
            "_model_module_version": "1.2.0",
            "_model_name": "LayoutModel",
            "_view_count": null,
            "_view_module": "@jupyter-widgets/base",
            "_view_module_version": "1.2.0",
            "_view_name": "LayoutView",
            "align_content": null,
            "align_items": null,
            "align_self": null,
            "border": null,
            "bottom": null,
            "display": null,
            "flex": null,
            "flex_flow": null,
            "grid_area": null,
            "grid_auto_columns": null,
            "grid_auto_flow": null,
            "grid_auto_rows": null,
            "grid_column": null,
            "grid_gap": null,
            "grid_row": null,
            "grid_template_areas": null,
            "grid_template_columns": null,
            "grid_template_rows": null,
            "height": null,
            "justify_content": null,
            "justify_items": null,
            "left": null,
            "margin": null,
            "max_height": null,
            "max_width": null,
            "min_height": null,
            "min_width": null,
            "object_fit": null,
            "object_position": null,
            "order": null,
            "overflow": null,
            "overflow_x": null,
            "overflow_y": null,
            "padding": null,
            "right": null,
            "top": null,
            "visibility": null,
            "width": null
          }
        },
        "95397650f26446f6af0f7e5d64024a31": {
          "model_module": "@jupyter-widgets/base",
          "model_name": "LayoutModel",
          "model_module_version": "1.2.0",
          "state": {
            "_model_module": "@jupyter-widgets/base",
            "_model_module_version": "1.2.0",
            "_model_name": "LayoutModel",
            "_view_count": null,
            "_view_module": "@jupyter-widgets/base",
            "_view_module_version": "1.2.0",
            "_view_name": "LayoutView",
            "align_content": null,
            "align_items": null,
            "align_self": null,
            "border": null,
            "bottom": null,
            "display": null,
            "flex": null,
            "flex_flow": null,
            "grid_area": null,
            "grid_auto_columns": null,
            "grid_auto_flow": null,
            "grid_auto_rows": null,
            "grid_column": null,
            "grid_gap": null,
            "grid_row": null,
            "grid_template_areas": null,
            "grid_template_columns": null,
            "grid_template_rows": null,
            "height": null,
            "justify_content": null,
            "justify_items": null,
            "left": null,
            "margin": null,
            "max_height": null,
            "max_width": null,
            "min_height": null,
            "min_width": null,
            "object_fit": null,
            "object_position": null,
            "order": null,
            "overflow": null,
            "overflow_x": null,
            "overflow_y": null,
            "padding": null,
            "right": null,
            "top": null,
            "visibility": null,
            "width": null
          }
        },
        "2cdc91e7785248eb9e835688bedbbd03": {
          "model_module": "@jupyter-widgets/controls",
          "model_name": "DescriptionStyleModel",
          "model_module_version": "1.5.0",
          "state": {
            "_model_module": "@jupyter-widgets/controls",
            "_model_module_version": "1.5.0",
            "_model_name": "DescriptionStyleModel",
            "_view_count": null,
            "_view_module": "@jupyter-widgets/base",
            "_view_module_version": "1.2.0",
            "_view_name": "StyleView",
            "description_width": ""
          }
        },
        "522e6cb7c9764db2bc6aeeea46350bb0": {
          "model_module": "@jupyter-widgets/base",
          "model_name": "LayoutModel",
          "model_module_version": "1.2.0",
          "state": {
            "_model_module": "@jupyter-widgets/base",
            "_model_module_version": "1.2.0",
            "_model_name": "LayoutModel",
            "_view_count": null,
            "_view_module": "@jupyter-widgets/base",
            "_view_module_version": "1.2.0",
            "_view_name": "LayoutView",
            "align_content": null,
            "align_items": null,
            "align_self": null,
            "border": null,
            "bottom": null,
            "display": null,
            "flex": null,
            "flex_flow": null,
            "grid_area": null,
            "grid_auto_columns": null,
            "grid_auto_flow": null,
            "grid_auto_rows": null,
            "grid_column": null,
            "grid_gap": null,
            "grid_row": null,
            "grid_template_areas": null,
            "grid_template_columns": null,
            "grid_template_rows": null,
            "height": null,
            "justify_content": null,
            "justify_items": null,
            "left": null,
            "margin": null,
            "max_height": null,
            "max_width": null,
            "min_height": null,
            "min_width": null,
            "object_fit": null,
            "object_position": null,
            "order": null,
            "overflow": null,
            "overflow_x": null,
            "overflow_y": null,
            "padding": null,
            "right": null,
            "top": null,
            "visibility": null,
            "width": null
          }
        },
        "c2442e7e8f774a83b0362c06b889afc6": {
          "model_module": "@jupyter-widgets/controls",
          "model_name": "ProgressStyleModel",
          "model_module_version": "1.5.0",
          "state": {
            "_model_module": "@jupyter-widgets/controls",
            "_model_module_version": "1.5.0",
            "_model_name": "ProgressStyleModel",
            "_view_count": null,
            "_view_module": "@jupyter-widgets/base",
            "_view_module_version": "1.2.0",
            "_view_name": "StyleView",
            "bar_color": null,
            "description_width": ""
          }
        }
      }
    }
  },
  "cells": [
    {
      "cell_type": "markdown",
      "source": [
        "## Overview\n",
        "This notebook is dedicated to the fine-tuning of Large Language Model (LLM) to address a **sequence-to-sequence** problem. Our goal is to develop a versatile tool capable of translating user queries into API calls.\n",
        "\n",
        "The tool's primary function is to interpret user queries and perform one of three types of operations:\n",
        "\n",
        "**Unit Conversion**: It can convert units from one measurement to another. For example, from feet to centimeters, or kilograms to ounces.\n",
        "\n",
        "**Math Calculations**: It can handle various mathematical calculations, including basic arithmetic (e.g., addition and subtraction) and more advanced operations (e.g., logarithm).\n",
        "\n",
        "**Search Queries**: For general queries, it acts as a search engine, looking up information with no parameters.\n",
        "\n",
        "Examples shown as below:\n",
        "\n",
        "Input: “ft to cm”; output: “UnitConvert(SourceUnit:foot, TargetUnit:centimeter,\n",
        "\n",
        "SourceValue:1)”\n",
        "\n",
        "Input: “how many ounces in 5.8 kilograms”; output: “UnitConvert(SourceUnit:kilogram,\n",
        "\n",
        "TargetUnit:ounce, SourceValue:5.8)”\n",
        "\n",
        "Input: “two to the power of 10”, output: “Calculate(2^10)”\n",
        "\n",
        "Input: “2001-1989”, output: “Calculate(2001-1989)”\n",
        "\n",
        "Input: “what is chatgpt”, output: “Search()”\n",
        "\n",
        "Input: “primary year 1 maths calculation checklist”, output: “Search()”\n",
        "\n",
        "Input: “what are different length units”, output: “Search()”"
      ],
      "metadata": {
        "id": "v84Euw3r_xM5"
      }
    },
    {
      "cell_type": "markdown",
      "source": [
        "### Approach\n",
        "Preprocessing: I preprocessed the generated data and transformed it into a format suitable for creating a Hugging Face dataset.\n",
        "\n",
        "Model Selection: Recognizing the need for highly controlled text generation, I explored different models. CodeT5 models stood out due to their language understanding and text-to-code capabilities, making them suitable for this problem. I initially tried the \"Salesforce/codet5-small\" model but later opted for the \"Salesforce/codet5p-220m\" model for better performance. More details about the model can be found here https://github.com/salesforce/CodeT5.\n",
        "\n",
        "Fine-Tuning: Using the sample dataset I created, I fine-tuned a new Seq2Seq2 model to solve the problem. In the process of fine-tuning the model, it's essential to be mindful of hyperparameters such as learning rate, batch size, and more. If the model encounters convergence challenges or suboptimal performance, fine-tuning these hyperparameters becomes necessary.\n",
        "\n",
        "Evaluation Metrics: To assess model performance, I used BLEU score and exact match metrics. BLEU score measures the quality of generated text, while exact match evaluates whether the generated output matches the expected output.\n",
        "\n",
        "Held-Out Dataset: I maintained a held-out dataset for evaluating the model's performance on unseen data, which helps ensure generalization.\n",
        "\n",
        "Experiment Tracking: I used Wandb (Weights and Biases) to keep track of my experiment process, allowing me to monitor training progress and results.\n",
        "\n",
        "Resource: Google Colab-GPU (T4/V100)."
      ],
      "metadata": {
        "id": "bPec4sxTBii0"
      }
    },
    {
      "cell_type": "code",
      "source": [
        "from psutil import virtual_memory\n",
        "ram_gb = virtual_memory().total / 1e9\n",
        "print('Your runtime has {:.1f} gigabytes of available RAM\\n'.format(ram_gb))\n",
        "\n",
        "if ram_gb < 20:\n",
        "  print('Not using a high-RAM runtime')\n",
        "else:\n",
        "  print('You are using a high-RAM runtime!')"
      ],
      "metadata": {
        "colab": {
          "base_uri": "https://localhost:8080/"
        },
        "id": "Vz4d1iIn-TNl",
        "outputId": "737faba1-1439-4ae5-cbd2-2160b074ea83"
      },
      "execution_count": 1,
      "outputs": [
        {
          "output_type": "stream",
          "name": "stdout",
          "text": [
            "Your runtime has 13.6 gigabytes of available RAM\n",
            "\n",
            "Not using a high-RAM runtime\n"
          ]
        }
      ]
    },
    {
      "cell_type": "code",
      "source": [
        "Upload the previously generated training examples in data_generate notebook to Google Drive for training access\n",
        "from google.colab import drive\n",
        "drive.mount('/content/drive')\n",
        "!cp  /content/drive/My\\ Drive/Colab\\ Notebooks/question_and_answer_list_1800.json /content/\n",
        "import json\n",
        "with open(\"question_and_answer_list_1800.json\", \"r\") as json_file:\n",
        "    loaded_data_list = json.load(json_file)"
      ],
      "metadata": {
        "id": "5jF9oL0m-2J6"
      },
      "execution_count": 2,
      "outputs": []
    },
    {
      "cell_type": "code",
      "source": [
        "len(loaded_data_list)"
      ],
      "metadata": {
        "colab": {
          "base_uri": "https://localhost:8080/"
        },
        "id": "Zhmo9y8nhkZV",
        "outputId": "f3ea9a7e-a5bb-4e88-e9f5-de637eeea6e5"
      },
      "execution_count": 3,
      "outputs": [
        {
          "output_type": "execute_result",
          "data": {
            "text/plain": [
              "1800"
            ]
          },
          "metadata": {},
          "execution_count": 3
        }
      ]
    },
    {
      "cell_type": "code",
      "metadata": {
        "id": "i8n4pEe2RXFB"
      },
      "source": [
        "!pip install -q transformers[sentencepiece] datasets wandb"
      ],
      "execution_count": 4,
      "outputs": []
    },
    {
      "cell_type": "code",
      "source": [
        "!pip install sentencepiece evaluate"
      ],
      "metadata": {
        "colab": {
          "base_uri": "https://localhost:8080/"
        },
        "id": "rtoZdrnr2ASZ",
        "outputId": "c581e741-75e3-4120-e621-0f4e75f67dd3"
      },
      "execution_count": 5,
      "outputs": [
        {
          "output_type": "stream",
          "name": "stdout",
          "text": [
            "Requirement already satisfied: sentencepiece in /usr/local/lib/python3.10/dist-packages (0.1.99)\n",
            "Requirement already satisfied: evaluate in /usr/local/lib/python3.10/dist-packages (0.4.1)\n",
            "Requirement already satisfied: datasets>=2.0.0 in /usr/local/lib/python3.10/dist-packages (from evaluate) (2.14.6)\n",
            "Requirement already satisfied: numpy>=1.17 in /usr/local/lib/python3.10/dist-packages (from evaluate) (1.23.5)\n",
            "Requirement already satisfied: dill in /usr/local/lib/python3.10/dist-packages (from evaluate) (0.3.7)\n",
            "Requirement already satisfied: pandas in /usr/local/lib/python3.10/dist-packages (from evaluate) (1.5.3)\n",
            "Requirement already satisfied: requests>=2.19.0 in /usr/local/lib/python3.10/dist-packages (from evaluate) (2.31.0)\n",
            "Requirement already satisfied: tqdm>=4.62.1 in /usr/local/lib/python3.10/dist-packages (from evaluate) (4.66.1)\n",
            "Requirement already satisfied: xxhash in /usr/local/lib/python3.10/dist-packages (from evaluate) (3.4.1)\n",
            "Requirement already satisfied: multiprocess in /usr/local/lib/python3.10/dist-packages (from evaluate) (0.70.15)\n",
            "Requirement already satisfied: fsspec[http]>=2021.05.0 in /usr/local/lib/python3.10/dist-packages (from evaluate) (2023.6.0)\n",
            "Requirement already satisfied: huggingface-hub>=0.7.0 in /usr/local/lib/python3.10/dist-packages (from evaluate) (0.17.3)\n",
            "Requirement already satisfied: packaging in /usr/local/lib/python3.10/dist-packages (from evaluate) (23.2)\n",
            "Requirement already satisfied: responses<0.19 in /usr/local/lib/python3.10/dist-packages (from evaluate) (0.18.0)\n",
            "Requirement already satisfied: pyarrow>=8.0.0 in /usr/local/lib/python3.10/dist-packages (from datasets>=2.0.0->evaluate) (9.0.0)\n",
            "Requirement already satisfied: aiohttp in /usr/local/lib/python3.10/dist-packages (from datasets>=2.0.0->evaluate) (3.8.6)\n",
            "Requirement already satisfied: pyyaml>=5.1 in /usr/local/lib/python3.10/dist-packages (from datasets>=2.0.0->evaluate) (6.0.1)\n",
            "Requirement already satisfied: filelock in /usr/local/lib/python3.10/dist-packages (from huggingface-hub>=0.7.0->evaluate) (3.12.4)\n",
            "Requirement already satisfied: typing-extensions>=3.7.4.3 in /usr/local/lib/python3.10/dist-packages (from huggingface-hub>=0.7.0->evaluate) (4.5.0)\n",
            "Requirement already satisfied: charset-normalizer<4,>=2 in /usr/local/lib/python3.10/dist-packages (from requests>=2.19.0->evaluate) (3.3.0)\n",
            "Requirement already satisfied: idna<4,>=2.5 in /usr/local/lib/python3.10/dist-packages (from requests>=2.19.0->evaluate) (3.4)\n",
            "Requirement already satisfied: urllib3<3,>=1.21.1 in /usr/local/lib/python3.10/dist-packages (from requests>=2.19.0->evaluate) (2.0.7)\n",
            "Requirement already satisfied: certifi>=2017.4.17 in /usr/local/lib/python3.10/dist-packages (from requests>=2.19.0->evaluate) (2023.7.22)\n",
            "Requirement already satisfied: python-dateutil>=2.8.1 in /usr/local/lib/python3.10/dist-packages (from pandas->evaluate) (2.8.2)\n",
            "Requirement already satisfied: pytz>=2020.1 in /usr/local/lib/python3.10/dist-packages (from pandas->evaluate) (2023.3.post1)\n",
            "Requirement already satisfied: attrs>=17.3.0 in /usr/local/lib/python3.10/dist-packages (from aiohttp->datasets>=2.0.0->evaluate) (23.1.0)\n",
            "Requirement already satisfied: multidict<7.0,>=4.5 in /usr/local/lib/python3.10/dist-packages (from aiohttp->datasets>=2.0.0->evaluate) (6.0.4)\n",
            "Requirement already satisfied: async-timeout<5.0,>=4.0.0a3 in /usr/local/lib/python3.10/dist-packages (from aiohttp->datasets>=2.0.0->evaluate) (4.0.3)\n",
            "Requirement already satisfied: yarl<2.0,>=1.0 in /usr/local/lib/python3.10/dist-packages (from aiohttp->datasets>=2.0.0->evaluate) (1.9.2)\n",
            "Requirement already satisfied: frozenlist>=1.1.1 in /usr/local/lib/python3.10/dist-packages (from aiohttp->datasets>=2.0.0->evaluate) (1.4.0)\n",
            "Requirement already satisfied: aiosignal>=1.1.2 in /usr/local/lib/python3.10/dist-packages (from aiohttp->datasets>=2.0.0->evaluate) (1.3.1)\n",
            "Requirement already satisfied: six>=1.5 in /usr/local/lib/python3.10/dist-packages (from python-dateutil>=2.8.1->pandas->evaluate) (1.16.0)\n"
          ]
        }
      ]
    },
    {
      "cell_type": "code",
      "source": [
        "!pip install accelerate -U"
      ],
      "metadata": {
        "colab": {
          "base_uri": "https://localhost:8080/"
        },
        "id": "n6YDr6HcxFa8",
        "outputId": "6e31f041-c959-41da-d9cb-0d9bc279f301"
      },
      "execution_count": 6,
      "outputs": [
        {
          "output_type": "stream",
          "name": "stdout",
          "text": [
            "Requirement already satisfied: accelerate in /usr/local/lib/python3.10/dist-packages (0.23.0)\n",
            "Requirement already satisfied: numpy>=1.17 in /usr/local/lib/python3.10/dist-packages (from accelerate) (1.23.5)\n",
            "Requirement already satisfied: packaging>=20.0 in /usr/local/lib/python3.10/dist-packages (from accelerate) (23.2)\n",
            "Requirement already satisfied: psutil in /usr/local/lib/python3.10/dist-packages (from accelerate) (5.9.5)\n",
            "Requirement already satisfied: pyyaml in /usr/local/lib/python3.10/dist-packages (from accelerate) (6.0.1)\n",
            "Requirement already satisfied: torch>=1.10.0 in /usr/local/lib/python3.10/dist-packages (from accelerate) (2.1.0+cu118)\n",
            "Requirement already satisfied: huggingface-hub in /usr/local/lib/python3.10/dist-packages (from accelerate) (0.17.3)\n",
            "Requirement already satisfied: filelock in /usr/local/lib/python3.10/dist-packages (from torch>=1.10.0->accelerate) (3.12.4)\n",
            "Requirement already satisfied: typing-extensions in /usr/local/lib/python3.10/dist-packages (from torch>=1.10.0->accelerate) (4.5.0)\n",
            "Requirement already satisfied: sympy in /usr/local/lib/python3.10/dist-packages (from torch>=1.10.0->accelerate) (1.12)\n",
            "Requirement already satisfied: networkx in /usr/local/lib/python3.10/dist-packages (from torch>=1.10.0->accelerate) (3.2)\n",
            "Requirement already satisfied: jinja2 in /usr/local/lib/python3.10/dist-packages (from torch>=1.10.0->accelerate) (3.1.2)\n",
            "Requirement already satisfied: fsspec in /usr/local/lib/python3.10/dist-packages (from torch>=1.10.0->accelerate) (2023.6.0)\n",
            "Requirement already satisfied: triton==2.1.0 in /usr/local/lib/python3.10/dist-packages (from torch>=1.10.0->accelerate) (2.1.0)\n",
            "Requirement already satisfied: requests in /usr/local/lib/python3.10/dist-packages (from huggingface-hub->accelerate) (2.31.0)\n",
            "Requirement already satisfied: tqdm>=4.42.1 in /usr/local/lib/python3.10/dist-packages (from huggingface-hub->accelerate) (4.66.1)\n",
            "Requirement already satisfied: MarkupSafe>=2.0 in /usr/local/lib/python3.10/dist-packages (from jinja2->torch>=1.10.0->accelerate) (2.1.3)\n",
            "Requirement already satisfied: charset-normalizer<4,>=2 in /usr/local/lib/python3.10/dist-packages (from requests->huggingface-hub->accelerate) (3.3.0)\n",
            "Requirement already satisfied: idna<4,>=2.5 in /usr/local/lib/python3.10/dist-packages (from requests->huggingface-hub->accelerate) (3.4)\n",
            "Requirement already satisfied: urllib3<3,>=1.21.1 in /usr/local/lib/python3.10/dist-packages (from requests->huggingface-hub->accelerate) (2.0.7)\n",
            "Requirement already satisfied: certifi>=2017.4.17 in /usr/local/lib/python3.10/dist-packages (from requests->huggingface-hub->accelerate) (2023.7.22)\n",
            "Requirement already satisfied: mpmath>=0.19 in /usr/local/lib/python3.10/dist-packages (from sympy->torch>=1.10.0->accelerate) (1.3.0)\n"
          ]
        }
      ]
    },
    {
      "cell_type": "markdown",
      "metadata": {
        "id": "8x-xYVZfR5ji"
      },
      "source": [
        "## Preprocess data\n",
        "There are special character tokens in the dataset of this problem eg. power operation \"^\" etc, hence, this needs to be considered when choosing the proper tokenizer to preprocess the dataset. We don't want to these tokens be treated as unknown tokens definitely. I chose CodeT5 series of tokenizer in this notebook. For details, refer to https://github.com/salesforce/CodeT5."
      ]
    },
    {
      "cell_type": "code",
      "metadata": {
        "id": "wUT9392IR3MZ"
      },
      "source": [
        "from datasets import Dataset"
      ],
      "execution_count": 7,
      "outputs": []
    },
    {
      "cell_type": "code",
      "source": [
        "# Added some high quality manually picked examples\n",
        "search_examples = [\n",
        "    (\"primary year 1 maths calculation checklist\", 'Search()'),\n",
        "    (\"what are different length units\", \"Search()\"),\n",
        "    (\"What is the capital of France?\", 'Search()'),\n",
        "    (\"How to bake a chocolate cake from scratch\", 'Search()'),\n",
        "    (\"Tell me about quantum physics\", 'Search()'),\n",
        "    (\"How to play the guitar\", 'Search()'),\n",
        "    (\"What are the ingredients for spaghetti carbonara?\", 'Search()'),\n",
        "    (\"Find information about different length units\", 'Search()'),\n",
        "    (\"Who won the World Series in 2020?\", 'Search()'),\n",
        "    (\"Can you recommend a good book to read?\", 'Search()'),\n",
        "    (\"What is the meaning of life?\", 'Search()'),\n",
        "    (\"When was the Declaration of Independence signed?\", 'Search()'),\n",
        "    (\"What is the population of New York City?\", 'Search()'),\n",
        "    (\"What's the weather forecast for 5 days from now?\", 'Search()'),\n",
        "    (\"Who is the 42nd President of the United States?\", 'Search()'),\n",
        "    (\"What is the GDP of China in 2021?\", 'Search()'),\n",
        "    (\"How to calculate the area of a circle with a radius of 10?\", 'Search()'),\n",
        "    (\"Tell me about the Apollo 11 mission to the moon.\", 'Search()'),\n",
        "    (\"What are the prime factors of 36?\", 'Search()'),\n",
        "    (\"How much does a gallon of milk weigh?\", 'Search()'),\n",
        "    (\"List of popular rock bands from the 70s\", 'Search()'),\n",
        "    (\"Best travel destinations for a solo trip\", 'Search()'),\n",
        "    (\"How to make a perfect omelette\", 'Search()'),\n",
        "    (\"Famous inventions in the 20th century\", 'Search()'),\n",
        "    (\"Upcoming science fiction movies in 2023\", 'Search()'),\n",
        "    (\"Health benefits of meditation and mindfulness\", 'Search()'),\n",
        "    (\"Top 10 historical landmarks in Europe\", 'Search()'),\n",
        "    (\"Budget-friendly meal planning tips\", 'Search()'),\n",
        "    (\"Overview of renewable energy sources\", 'Search()'),\n",
        "    (\"DIY home improvement projects for beginners\", 'Search()'),\n",
        "    (\"Why do leaves change color in the fall?\", 'Search()'),\n",
        "    (\"Top 5 programming languages for web development\", 'Search()'),\n",
        "    (\"Tips for growing a successful vegetable garden\", 'Search()'),\n",
        "    (\"History of the Olympic Games\", 'Search()'),\n",
        "    (\"Exploring the mysteries of black holes\", 'Search()'),\n",
        "    (\"The impact of social media on society\", 'Search()'),\n",
        "    (\"Different types of yoga and their benefits\", 'Search()'),\n",
        "    (\"Understanding the concept of time dilation\", 'Search()'),\n",
        "    (\"How to properly clean and organize your closet\", 'Search()'),\n",
        "    (\"The art of making homemade pizza\", 'Search()'),\n",
        "]\n",
        "\n",
        "cal_examples = [\n",
        "    (\"What is 2 to the power of 5?\", \"Calculate(2^5)\"),\n",
        "    (\"How much is 100 divided by 5?\", \"Calculate(100/5)\"),\n",
        "    (\"Calculate the square root of 25.\", \"Calculate(sqrt(25))\"),\n",
        "    (\"Find the logarithm of 100 to the base 10.\", \"Calculate(log(100,10))\"),\n",
        "    (\"Evaluate 5 factorial.\", \"Calculate(5!)\"),\n",
        "    (\"What is the sine of 45 degrees?\", \"Calculate(sin(45))\"),\n",
        "    (\"Calculate the cosine of 30 degrees.\", \"Calculate(cos(30))\"),\n",
        "    (\"What is 8 plus 3?\", \"Calculate(8+3)\"),\n",
        "    (\"How to subtract 15 from 30?\", \"Calculate(30-15)\"),\n",
        "    (\"Evaluate 3 times 7.\", \"Calculate(3*7)\"),\n",
        "    (\"What is the tangent of 60 degrees?\", \"Calculate(tan(60))\"),\n",
        "    (\"Calculate the natural log of 50.\", \"Calculate(ln(50))\"),\n",
        "    (\"Compute e to the power of 3.\", \"Calculate(exp(3))\"),\n",
        "    (\"What is 10 minus 4?\", \"Calculate(10-4)\"),\n",
        "    (\"two to the power of 10\", \"Calculate(2^10)\"),\n",
        "    (\"2001-1989\", \"Calculate(2001-1989)\"),\n",
        "    (\"9 times 12 minus 3 to the power of 10\", \"Calculate(9*12-3^10)\"),\n",
        "    (\"100 divided by 5 plus 10\", \"Calculate(100/5+10)\"),\n",
        "    (\"Square root of 25 minus 3\", \"Calculate(sqrt(25)-3)\"),\n",
        "    (\"Logarithm of 100 to the base 10 times 2\", \"Calculate(log(100,10)*2)\"),\n",
        "    (\"5 factorial divided by 2\", \"Calculate(5!/2)\"),\n",
        "    (\"Sine of 45 degrees plus 1.5\", \"Calculate(sin(45)+1.5)\"),\n",
        "    (\"Cosine of 30 degrees minus 0.5\", \"Calculate(cos(30)-0.5)\"),\n",
        "    (\"8 plus 3 times 4\", \"Calculate(8+3*4)\"),\n",
        "    (\"15 minus 30 divided by 5\", \"Calculate(15-30/5)\"),\n",
        "    (\"3 times 7 minus tangent of 45 radians\", \"Calculate(3*7-tan(45))\"),\n",
        "    (\"1 plus natural log of 50\", \"Calculate(1+ln(50))\"),\n",
        "    (\"Exponential of 3 divided by 2\", \"Calculate(exp(3)/2)\"),\n",
        "    (\"Square root of 64 plus 2 cubed\", \"Calculate(sqrt(64)+2^3)\"),\n",
        "    (\"Logarithm of 100 to the base 2 times 3 squared\", \"Calculate(log(100,2)*3^2)\"),\n",
        "    (\"10 factorial divided by 4 minus 7\", \"Calculate(10!/4-7)\"),\n",
        "    (\"Sine of 30 degrees plus cosine of 60 degrees\", \"Calculate(sin(30)+cos(60))\"),\n",
        "    (\"4 divided by the natural log of 10\", \"Calculate(4/ln(10))\"),\n",
        "    (\"5 squared times 3 factorial\", \"Calculate(5^2*3!)\"),\n",
        "    (\"Exponential of 4 plus 3 to the power of 2\", \"Calculate(exp(4)+3^2)\"),\n",
        "    (\"Square root of 100 plus 10 cubed minus 2\", \"Calculate(sqrt(100)+10^3-2)\"),\n",
        "    (\"Find the area of a rectangle with length 6 and width 4.\", \"Calculate(6*4)\"),\n",
        "    (\"If a car is traveling at 60 miles per hour, how far will it travel in 3 hours?\", \"Calculate(60*3)\"),\n",
        "    (\"What is 15% of 80?\", \"Calculate(0.15*80)\"),\n",
        "    (\"A shop sells a product for $25 with a 20% discount. What is the discounted price?\", \"Calculate(25-0.20*25)\"),\n",
        "]\n",
        "\n",
        "unit_conversion_examples = [\n",
        "    (\"ft to cm\", \"UnitConvert(SourceUnit:foot, TargetUnit:centimeter, SourceValue:1)\"),\n",
        "    (\"how many ounces in 5.8 kilograms\", \"UnitConvert(SourceUnit:kilogram, TargetUnit:ounce, SourceValue:5.8)\"),\n",
        "    (\"Convert 5 miles to kilometers\", 'UnitConvert(SourceUnit:\"mile\", TargetUnit:\"kilometer\", SourceValue:5)'),\n",
        "    (\"Change 1000 grams into kilograms\", 'UnitConvert(SourceUnit:\"gram\", TargetUnit:\"kilogram\", SourceValue:1000)'),\n",
        "    (\"How many feet are in 3 meters?\", 'UnitConvert(SourceUnit:\"meter\", TargetUnit:\"foot\", SourceValue:3)'),\n",
        "    (\"What is 20 acres in square meters?\", 'UnitConvert(SourceUnit:\"acre\", TargetUnit:\"square meter\", SourceValue:20)'),\n",
        "    (\"I need 2 liters in milliliters.\", 'UnitConvert(SourceUnit:\"liter\", TargetUnit:\"milliliter\", SourceValue:2)'),\n",
        "    (\"Convert 30°C to Fahrenheit\", 'UnitConvert(SourceUnit:\"Celsius\", TargetUnit:\"Fahrenheit\", SourceValue:30)'),\n",
        "    (\"What's 100 pounds in ounces?\", 'UnitConvert(SourceUnit:\"pound\", TargetUnit:\"ounce\", SourceValue:100)'),\n",
        "    (\"Change 60 miles per hour to kilometers per hour\", 'UnitConvert(SourceUnit:\"mile per hour\", TargetUnit:\"kilometer per hour\", SourceValue:60)'),\n",
        "    (\"Translate 25 kilometers per hour to meters per second\", 'UnitConvert(SourceUnit:\"kilometer per hour\", TargetUnit:\"meter per second\", SourceValue:25)'),\n",
        "    (\"Tell me the equivalent of 5 gallons in quarts\", 'UnitConvert(SourceUnit:\"gallon\", TargetUnit:\"quart\", SourceValue:5)'),\n",
        "    (\"How many ounces in 2.5 pounds?\", 'UnitConvert(SourceUnit:\"pound\", TargetUnit:\"ounce\", SourceValue:2.5)'),\n",
        "    (\"Change 60°F to Celsius\", 'UnitConvert(SourceUnit:\"Fahrenheit\", TargetUnit:\"Celsius\", SourceValue:60)'),\n",
        "    (\"Convert 80 kilometers to miles\", 'UnitConvert(SourceUnit:\"kilometer\", TargetUnit:\"mile\", SourceValue:80)'),\n",
        "    (\"What is 1800 square feet in square meters?\", 'UnitConvert(SourceUnit:\"square foot\", TargetUnit:\"square meter\", SourceValue:1800)'),\n",
        "    (\"Translate 40 kilometers per hour to miles per hour\", 'UnitConvert(SourceUnit:\"kilometer per hour\", TargetUnit:\"mile per hour\", SourceValue:40)'),\n",
        "    (\"How many liters in 2.5 gallons?\", 'UnitConvert(SourceUnit:\"gallon\", TargetUnit:\"liter\", SourceValue:2.5)'),\n",
        "    (\"Convert 1 day to hours\", 'UnitConvert(SourceUnit:\"day\", TargetUnit:\"hour\", SourceValue:1)'),\n",
        "    (\"How many minutes are in 2 hours?\", 'UnitConvert(SourceUnit:\"hour\", TargetUnit:\"minute\", SourceValue:2)'),\n",
        "    (\"Change 30 seconds into minutes\", 'UnitConvert(SourceUnit:\"second\", TargetUnit:\"minute\", SourceValue:30)'),\n",
        "    (\"What is 7 days in hours?\", 'UnitConvert(SourceUnit:\"day\", TargetUnit:\"hour\", SourceValue:7)'),\n",
        "    (\"I need 120 minutes in hours.\", 'UnitConvert(SourceUnit:\"minute\", TargetUnit:\"hour\", SourceValue:120)'),\n",
        "    (\"Convert 7200 seconds to hours\", 'UnitConvert(SourceUnit:\"second\", TargetUnit:\"hour\", SourceValue:7200)'),\n",
        "    (\"How many milligrams in 3 grams?\", 'UnitConvert(SourceUnit:\"gram\", TargetUnit:\"milligram\", SourceValue:3)'),\n",
        "    (\"Convert 2.5 liters to gallons\", 'UnitConvert(SourceUnit:\"liter\", TargetUnit:\"gallon\", SourceValue:2.5)'),\n",
        "    (\"Change 100 square feet to square meters\", 'UnitConvert(SourceUnit:\"square foot\", TargetUnit:\"square meter\", SourceValue:100)'),\n",
        "    (\"What is 50 miles per hour in kilometers per hour?\", 'UnitConvert(SourceUnit:\"mile per hour\", TargetUnit:\"kilometer per hour\", SourceValue:50)'),\n",
        "    (\"How many pounds in 1 ton?\", 'UnitConvert(SourceUnit:\"ton\", TargetUnit:\"pound\", SourceValue:1)'),\n",
        "    (\"Convert 20°C to Kelvin\", 'UnitConvert(SourceUnit:\"Celsius\", TargetUnit:\"Kelvin\", SourceValue:20)'),\n",
        "    (\"What's 250 grams in ounces?\", 'UnitConvert(SourceUnit:\"gram\", TargetUnit:\"ounce\", SourceValue:250)'),\n",
        "    (\"Change 60 kilometers to miles\", 'UnitConvert(SourceUnit:\"kilometer\", TargetUnit:\"mile\", SourceValue:60)'),\n",
        "    (\"Translate 45 kilometers per hour to meters per second\", 'UnitConvert(SourceUnit:\"kilometer per hour\", TargetUnit:\"meter per second\", SourceValue:45)'),\n",
        "    (\"Tell me the equivalent of 8 quarts in gallons\", 'UnitConvert(SourceUnit:\"quart\", TargetUnit:\"gallon\", SourceValue:8)'),\n",
        "    (\"How many ounces in 3.5 pounds?\", 'UnitConvert(SourceUnit:\"pound\", TargetUnit:\"ounce\", SourceValue:3.5)'),\n",
        "    (\"Change 32°F to Celsius\", 'UnitConvert(SourceUnit:\"Fahrenheit\", TargetUnit:\"Celsius\", SourceValue:32)'),\n",
        "    (\"What is 10 square meters in square feet?\", 'UnitConvert(SourceUnit:\"square meter\", TargetUnit:\"square foot\", SourceValue:10)'),\n",
        "    (\"How many gallons in 4 barrels?\", 'UnitConvert(SourceUnit:\"barrel\", TargetUnit:\"gallon\", SourceValue:4)'),\n",
        "    (\"Convert 2 days to hours\", 'UnitConvert(SourceUnit:\"day\", TargetUnit:\"hour\", SourceValue:2)'),\n",
        "    (\"Change 90 seconds into minutes\", 'UnitConvert(SourceUnit:\"second\", TargetUnit:\"minute\", SourceValue:90)'),\n",
        "]"
      ],
      "metadata": {
        "id": "i4zCckrIWiRE"
      },
      "execution_count": 8,
      "outputs": []
    },
    {
      "cell_type": "code",
      "source": [
        "from datasets import Dataset, DatasetDict\n",
        "import random\n",
        "\n",
        "# Combine all examples into a single list\n",
        "all_examples = search_examples + cal_examples + unit_conversion_examples\n",
        "all_examples.extend(loaded_data_list)\n",
        "# Shuffle the combined list\n",
        "\n",
        "random.seed(42)\n",
        "random.shuffle(all_examples)\n",
        "\n",
        "# Calculate the number of examples for train, val, and test\n",
        "total_examples = len(all_examples)\n",
        "train_size = int(0.8 * total_examples)\n",
        "val_size = int(0.1 * total_examples)\n",
        "\n",
        "# Split the combined list into train, val, and test sets\n",
        "train_examples = all_examples[:train_size]\n",
        "val_examples = all_examples[train_size:train_size + val_size]\n",
        "test_examples = all_examples[train_size + val_size:]\n",
        "\n",
        "# Create a dataset for each set\n",
        "train_dataset = Dataset.from_dict({\n",
        "    'query': [example[0] for example in train_examples],\n",
        "    'api_string': [example[1] for example in train_examples]\n",
        "})\n",
        "\n",
        "val_dataset = Dataset.from_dict({\n",
        "    'query': [example[0] for example in val_examples],\n",
        "    'api_string': [example[1] for example in val_examples]\n",
        "})\n",
        "\n",
        "test_dataset = Dataset.from_dict({\n",
        "    'query': [example[0] for example in test_examples],\n",
        "    'api_string': [example[1] for example in test_examples]\n",
        "})\n",
        "\n",
        "print(\"Number of train examples:\", len(train_dataset))\n",
        "print(\"Number of val examples:\", len(val_dataset))\n",
        "print(\"Number of test examples:\", len(test_dataset))\n",
        "\n",
        "init_dataset = DatasetDict({\n",
        "    'train': train_dataset,\n",
        "    'validation': val_dataset,\n",
        "    'test': test_dataset\n",
        "})"
      ],
      "metadata": {
        "colab": {
          "base_uri": "https://localhost:8080/"
        },
        "id": "4vyGirHgd0lb",
        "outputId": "ffadc904-3036-41d7-9ca5-cb3627f8a4d0"
      },
      "execution_count": 9,
      "outputs": [
        {
          "output_type": "stream",
          "name": "stdout",
          "text": [
            "Number of train examples: 1536\n",
            "Number of val examples: 192\n",
            "Number of test examples: 192\n"
          ]
        }
      ]
    },
    {
      "cell_type": "code",
      "source": [
        "validation_dataset = init_dataset['validation']\n",
        "\n",
        "# Print specific examples from the validation dataset\n",
        "sample_size = 6\n",
        "for i in range(sample_size):\n",
        "    example = validation_dataset[i]\n",
        "    print(f\"Example {i + 1}:\")\n",
        "    print(\"Query:\", example['query'])\n",
        "    print(\"API String:\", example['api_string'])\n",
        "    print()\n"
      ],
      "metadata": {
        "colab": {
          "base_uri": "https://localhost:8080/"
        },
        "id": "CEtWBGmae33E",
        "outputId": "f14ac870-ccac-4eaa-86f8-487d8df6dfc1"
      },
      "execution_count": 10,
      "outputs": [
        {
          "output_type": "stream",
          "name": "stdout",
          "text": [
            "Example 1:\n",
            "Query: What is 10 square meters in square feet?\n",
            "API String: UnitConvert(SourceUnit:\"square meter\", TargetUnit:\"square foot\", SourceValue:10)\n",
            "\n",
            "Example 2:\n",
            "Query: 10 reasons why electric cars are good?\n",
            "API String: Search()\n",
            "\n",
            "Example 3:\n",
            "Query:  Robin was making baggies of cookies with 6 cookies in each bag. If she had 23 chocolate chip cookies and 25 oatmeal cookies, how many baggies could she make? \n",
            "API String: Calculate((23.0+25.0)/6.0)\n",
            "\n",
            "Example 4:\n",
            "Query:  Will was organizing his baseball cards in a binder with 3 on each page. If he had 8 new cards and 10 old cards to put in the binder, how many pages would he use? \n",
            "API String: Calculate((8.0+10.0)/3.0)\n",
            "\n",
            "Example 5:\n",
            "Query:  Gwen was organizing her book case making sure each of the shelves had exactly 4 books on it. If she had 5 shelves of mystery books and 3 shelves of picture books, how many books did she have total? \n",
            "API String: Calculate(4.0*(5.0+3.0))\n",
            "\n",
            "Example 6:\n",
            "Query:  April's discount flowers was having a sale where each rose was 9 dollars. If April started with 11 roses and had 8 roses left, how much money did she earn? \n",
            "API String: Calculate(9.0*(11.0-8.0))\n",
            "\n"
          ]
        }
      ]
    },
    {
      "cell_type": "code",
      "metadata": {
        "id": "wvRHDkCIS91f"
      },
      "source": [
        "tokenizer_name = \"Salesforce/codet5p-220m\"\n",
        "from transformers import AutoTokenizer\n",
        "tokenizer = AutoTokenizer.from_pretrained(tokenizer_name)\n",
        "\n",
        "prefix = \"Convert query: \"\n",
        "max_input_length = 256\n",
        "max_target_length = 256\n",
        "\n",
        "def preprocess_examples(examples):\n",
        "  queries = examples[\"query\"]\n",
        "  api_strings = examples[\"api_string\"]\n",
        "\n",
        "  inputs = [prefix + query for query in queries]\n",
        "  model_inputs = tokenizer(inputs, max_length=max_input_length, padding=\"max_length\", truncation=True)\n",
        "\n",
        "  labels = tokenizer(api_strings, max_length=max_target_length, padding=\"max_length\", truncation=True).input_ids\n",
        "\n",
        "  # replace the index of the padding tokens by -100\n",
        "  # such that they are not taken into account by the CrossEntropyLoss\n",
        "  labels_with_ignore_index = []\n",
        "  for labels_example in labels:\n",
        "    labels_example = [label if label != 0 else -100 for label in labels_example]\n",
        "    labels_with_ignore_index.append(labels_example)\n",
        "\n",
        "  model_inputs[\"labels\"] = labels_with_ignore_index\n",
        "\n",
        "  return model_inputs"
      ],
      "execution_count": 11,
      "outputs": []
    },
    {
      "cell_type": "code",
      "metadata": {
        "colab": {
          "base_uri": "https://localhost:8080/",
          "height": 113,
          "referenced_widgets": [
            "dcd55ae99d8e4b4f8c4754a891e205fe",
            "db015351516d444db123648139811ab6",
            "abdc1fc0f1fc4f85b971ced7eb744b1d",
            "71dd1514bd1141f29e12d0fd8012a965",
            "e7bfdcd37f404f379c689babac065722",
            "5302e6d1ab01468b9fec833b5c690b2c",
            "8c010df0cd724cea8846be521b22656b",
            "8e26c7fe57c342dfa4069820c4a8f2f9",
            "1fa31a88290c458aa561a9b8b65e7fdd",
            "5e5b628ef12641658136e007f53a43bb",
            "4beb66bf586443038da6ff9140a01d79",
            "a3fb25acf26b440ea20ee724a5f7929b",
            "b94513a042fa492ba3bc42d3dc566d89",
            "d026f7e20d04415ea33b0d997af96221",
            "f63720abe7284d63bdd5725b33f6a3cf",
            "419c59fdb9b64577a2b65186b28713e6",
            "e0ac893266ea4b0bb6311b4ffc2e754c",
            "10a133438b06489ea73a0de26a285759",
            "312f46ef0f064c09896affa559c7a3af",
            "3f2fc30480de492883b9a991385e9a63",
            "d959c4494dc54f4aa898586cf2eb5d83",
            "1f70522924874117a5e287586ce0525f",
            "fc14941486c84b79bbb5b714dec176c0",
            "d413183fba0c4de485a0953a006581f4",
            "ac4888284e6b404bad01062f2dc59750",
            "1ca19de06a52425487b89e94cc9635ea",
            "9bfb772da5e243ec9391f93aa0cf7859",
            "9105d641e4594c9683a324d2fad7062d",
            "ee937fc18a0f4061a2b91f3c107ae621",
            "db852f742814406fb1ffe84a8f3225a4",
            "62853cc182284f6db45869de564654be",
            "cbadc09434484a56bd710414caddad2a",
            "18eafa689ecf4db9be34dee303c243f8"
          ]
        },
        "id": "S2lYwT-ZWMk0",
        "outputId": "0992c10c-37d0-44d0-a96d-32b3a0b05415"
      },
      "source": [
        "dataset = init_dataset.map(preprocess_examples, batched=True)"
      ],
      "execution_count": 12,
      "outputs": [
        {
          "output_type": "display_data",
          "data": {
            "text/plain": [
              "Map:   0%|          | 0/1536 [00:00<?, ? examples/s]"
            ],
            "application/vnd.jupyter.widget-view+json": {
              "version_major": 2,
              "version_minor": 0,
              "model_id": "dcd55ae99d8e4b4f8c4754a891e205fe"
            }
          },
          "metadata": {}
        },
        {
          "output_type": "display_data",
          "data": {
            "text/plain": [
              "Map:   0%|          | 0/192 [00:00<?, ? examples/s]"
            ],
            "application/vnd.jupyter.widget-view+json": {
              "version_major": 2,
              "version_minor": 0,
              "model_id": "a3fb25acf26b440ea20ee724a5f7929b"
            }
          },
          "metadata": {}
        },
        {
          "output_type": "display_data",
          "data": {
            "text/plain": [
              "Map:   0%|          | 0/192 [00:00<?, ? examples/s]"
            ],
            "application/vnd.jupyter.widget-view+json": {
              "version_major": 2,
              "version_minor": 0,
              "model_id": "fc14941486c84b79bbb5b714dec176c0"
            }
          },
          "metadata": {}
        }
      ]
    },
    {
      "cell_type": "markdown",
      "source": [
        "## Training"
      ],
      "metadata": {
        "id": "IiakF6mXNIGh"
      }
    },
    {
      "cell_type": "code",
      "metadata": {
        "colab": {
          "base_uri": "https://localhost:8080/"
        },
        "id": "HKDavW52ZuKv",
        "outputId": "bd19680e-296b-4bea-9ee0-46938e2b2edd"
      },
      "source": [
        "import wandb\n",
        "\n",
        "wandb.login()"
      ],
      "execution_count": 13,
      "outputs": [
        {
          "output_type": "stream",
          "name": "stderr",
          "text": [
            "\u001b[34m\u001b[1mwandb\u001b[0m: Currently logged in as: \u001b[33mlynn_xu\u001b[0m. Use \u001b[1m`wandb login --relogin`\u001b[0m to force relogin\n"
          ]
        },
        {
          "output_type": "execute_result",
          "data": {
            "text/plain": [
              "True"
            ]
          },
          "metadata": {},
          "execution_count": 13
        }
      ]
    },
    {
      "cell_type": "code",
      "source": [
        "from datasets import load_metric\n",
        "import evaluate\n",
        "metric = evaluate.load(\"bleu\")\n",
        "import numpy as np\n",
        "def postprocess_text(preds, labels):\n",
        "    preds = [pred.strip() for pred in preds]\n",
        "    labels = [label.strip() for label in labels]\n",
        "    return preds, labels\n",
        "\n",
        "def compute_metrics(eval_preds):\n",
        "    preds, labels = eval_preds\n",
        "    if isinstance(preds, tuple):\n",
        "        preds = preds[0]\n",
        "    preds = np.where(preds != -100, preds, tokenizer.pad_token_id)\n",
        "    decoded_preds = tokenizer.batch_decode(preds, skip_special_tokens=True)\n",
        "\n",
        "    # Replace -100 in the labels as we can't decode them.\n",
        "    labels = np.where(labels != -100, labels, tokenizer.pad_token_id)\n",
        "    decoded_labels = tokenizer.batch_decode(labels, skip_special_tokens=True)\n",
        "\n",
        "    # Some simple post-processing\n",
        "    decoded_preds, decoded_labels = postprocess_text(decoded_preds, decoded_labels)\n",
        "\n",
        "    bleu_result = metric.compute(predictions=decoded_preds, references=decoded_labels)\n",
        "    result = {\"bleu\": bleu_result[\"bleu\"]}\n",
        "\n",
        "    # Calculate Exact Match (EM)\n",
        "    exact_match = sum([1 if p == l else 0 for p, l in zip(decoded_preds, decoded_labels)]) / len(decoded_labels)\n",
        "    result[\"exact_match\"] = exact_match\n",
        "    result = {k: round(v, 4) for k, v in result.items()}\n",
        "    return result"
      ],
      "metadata": {
        "id": "1bwMZZuDudGG"
      },
      "execution_count": 14,
      "outputs": []
    },
    {
      "cell_type": "code",
      "source": [
        "from transformers import AutoModelForSeq2SeqLM, Seq2SeqTrainingArguments, DataCollatorForSeq2Seq, Seq2SeqTrainer\n",
        "import os\n",
        "model_name= \"Salesforce/codet5p-220m\"\n",
        "\n",
        "lr=5e-5\n",
        "num_train_epochs=15\n",
        "warmup_steps=200\n",
        "weight_decay=0.05\n",
        "fp16=False\n",
        "batch_size = 8\n",
        "config = {\"epochs\": num_train_epochs, \"learning_rate\": lr, \"batch_size\": batch_size, \"warmup_steps\":warmup_steps,\n",
        "                \"tokenizer\": tokenizer_name, \"model_name\":model_name, \"max_target_length\": max_target_length,\n",
        "          \"max_input_length\": max_input_length}\n",
        "run = wandb.init(project=\"Query_Convert\", notes=\"\", config=config)"
      ],
      "metadata": {
        "colab": {
          "base_uri": "https://localhost:8080/",
          "height": 105
        },
        "id": "kjvf7Wc3xS00",
        "outputId": "e24b3786-d905-458e-a48f-b98996977059"
      },
      "execution_count": 18,
      "outputs": [
        {
          "output_type": "display_data",
          "data": {
            "text/plain": [
              "<IPython.core.display.HTML object>"
            ],
            "text/html": [
              "Tracking run with wandb version 0.15.12"
            ]
          },
          "metadata": {}
        },
        {
          "output_type": "display_data",
          "data": {
            "text/plain": [
              "<IPython.core.display.HTML object>"
            ],
            "text/html": [
              "Run data is saved locally in <code>/content/wandb/run-20231024_051123-i5uptn85</code>"
            ]
          },
          "metadata": {}
        },
        {
          "output_type": "display_data",
          "data": {
            "text/plain": [
              "<IPython.core.display.HTML object>"
            ],
            "text/html": [
              "Syncing run <strong><a href='https://wandb.ai/lynn_xu/Query_Convert/runs/i5uptn85' target=\"_blank\">ethereal-microwave-26</a></strong> to <a href='https://wandb.ai/lynn_xu/Query_Convert' target=\"_blank\">Weights & Biases</a> (<a href='https://wandb.me/run' target=\"_blank\">docs</a>)<br/>"
            ]
          },
          "metadata": {}
        },
        {
          "output_type": "display_data",
          "data": {
            "text/plain": [
              "<IPython.core.display.HTML object>"
            ],
            "text/html": [
              " View project at <a href='https://wandb.ai/lynn_xu/Query_Convert' target=\"_blank\">https://wandb.ai/lynn_xu/Query_Convert</a>"
            ]
          },
          "metadata": {}
        },
        {
          "output_type": "display_data",
          "data": {
            "text/plain": [
              "<IPython.core.display.HTML object>"
            ],
            "text/html": [
              " View run at <a href='https://wandb.ai/lynn_xu/Query_Convert/runs/i5uptn85' target=\"_blank\">https://wandb.ai/lynn_xu/Query_Convert/runs/i5uptn85</a>"
            ]
          },
          "metadata": {}
        }
      ]
    },
    {
      "cell_type": "code",
      "metadata": {
        "colab": {
          "base_uri": "https://localhost:8080/",
          "height": 601
        },
        "id": "WroP64V8dWuO",
        "outputId": "bb0aa957-7dae-4f96-d4e1-01e5c95128f2"
      },
      "source": [
        "model = AutoModelForSeq2SeqLM.from_pretrained(model_name)\n",
        "training_args = Seq2SeqTrainingArguments(\n",
        "        report_to=\"wandb\",\n",
        "        output_dir=\"/content/drive/MyDrive/CodeT5/Notebooks/Checkpoints\",\n",
        "        overwrite_output_dir=True,\n",
        "        do_train=True,\n",
        "        save_strategy='epoch',\n",
        "        evaluation_strategy=\"epoch\",\n",
        "        num_train_epochs=num_train_epochs,\n",
        "        per_device_train_batch_size=batch_size,\n",
        "        per_device_eval_batch_size=int(batch_size/2),\n",
        "        gradient_accumulation_steps=4,\n",
        "        learning_rate=lr,\n",
        "        weight_decay=weight_decay,\n",
        "        warmup_steps=warmup_steps,\n",
        "        logging_first_step=True,\n",
        "        logging_steps=1,\n",
        "        save_total_limit=1,\n",
        "        dataloader_drop_last=True,\n",
        "        local_rank=-1,\n",
        "        deepspeed=None,\n",
        "        fp16=fp16,\n",
        "        predict_with_generate=True,\n",
        "        generation_max_length=max_target_length\n",
        "    )\n",
        "\n",
        "data_collator = DataCollatorForSeq2Seq(tokenizer, model=model, label_pad_token_id=tokenizer.pad_token_id)\n",
        "\n",
        "trainer = Seq2SeqTrainer(\n",
        "    model,\n",
        "    training_args,\n",
        "    train_dataset=dataset[\"train\"],\n",
        "    eval_dataset=dataset[\"validation\"],\n",
        "    data_collator=data_collator,\n",
        "    tokenizer=tokenizer,\n",
        "    compute_metrics=compute_metrics,\n",
        ")\n",
        "\n",
        "trainer.train()"
      ],
      "execution_count": 19,
      "outputs": [
        {
          "output_type": "display_data",
          "data": {
            "text/plain": [
              "<IPython.core.display.HTML object>"
            ],
            "text/html": [
              "\n",
              "    <div>\n",
              "      \n",
              "      <progress value='720' max='720' style='width:300px; height:20px; vertical-align: middle;'></progress>\n",
              "      [720/720 26:01, Epoch 15/15]\n",
              "    </div>\n",
              "    <table border=\"1\" class=\"dataframe\">\n",
              "  <thead>\n",
              " <tr style=\"text-align: left;\">\n",
              "      <th>Epoch</th>\n",
              "      <th>Training Loss</th>\n",
              "      <th>Validation Loss</th>\n",
              "      <th>Bleu</th>\n",
              "      <th>Exact Match</th>\n",
              "    </tr>\n",
              "  </thead>\n",
              "  <tbody>\n",
              "    <tr>\n",
              "      <td>1</td>\n",
              "      <td>0.449400</td>\n",
              "      <td>0.338337</td>\n",
              "      <td>0.289500</td>\n",
              "      <td>0.453100</td>\n",
              "    </tr>\n",
              "    <tr>\n",
              "      <td>2</td>\n",
              "      <td>0.257600</td>\n",
              "      <td>0.116052</td>\n",
              "      <td>0.687000</td>\n",
              "      <td>0.604200</td>\n",
              "    </tr>\n",
              "    <tr>\n",
              "      <td>3</td>\n",
              "      <td>0.064300</td>\n",
              "      <td>0.057022</td>\n",
              "      <td>0.835100</td>\n",
              "      <td>0.796900</td>\n",
              "    </tr>\n",
              "    <tr>\n",
              "      <td>4</td>\n",
              "      <td>0.078500</td>\n",
              "      <td>0.041875</td>\n",
              "      <td>0.880100</td>\n",
              "      <td>0.890600</td>\n",
              "    </tr>\n",
              "    <tr>\n",
              "      <td>5</td>\n",
              "      <td>0.026800</td>\n",
              "      <td>0.028280</td>\n",
              "      <td>0.931400</td>\n",
              "      <td>0.895800</td>\n",
              "    </tr>\n",
              "    <tr>\n",
              "      <td>6</td>\n",
              "      <td>0.021100</td>\n",
              "      <td>0.019646</td>\n",
              "      <td>0.953300</td>\n",
              "      <td>0.942700</td>\n",
              "    </tr>\n",
              "    <tr>\n",
              "      <td>7</td>\n",
              "      <td>0.008900</td>\n",
              "      <td>0.022830</td>\n",
              "      <td>0.950300</td>\n",
              "      <td>0.942700</td>\n",
              "    </tr>\n",
              "    <tr>\n",
              "      <td>8</td>\n",
              "      <td>0.017800</td>\n",
              "      <td>0.028482</td>\n",
              "      <td>0.937900</td>\n",
              "      <td>0.947900</td>\n",
              "    </tr>\n",
              "    <tr>\n",
              "      <td>9</td>\n",
              "      <td>0.002300</td>\n",
              "      <td>0.019612</td>\n",
              "      <td>0.954000</td>\n",
              "      <td>0.937500</td>\n",
              "    </tr>\n",
              "    <tr>\n",
              "      <td>10</td>\n",
              "      <td>0.004300</td>\n",
              "      <td>0.016132</td>\n",
              "      <td>0.961100</td>\n",
              "      <td>0.953100</td>\n",
              "    </tr>\n",
              "    <tr>\n",
              "      <td>11</td>\n",
              "      <td>0.004600</td>\n",
              "      <td>0.016708</td>\n",
              "      <td>0.962500</td>\n",
              "      <td>0.958300</td>\n",
              "    </tr>\n",
              "    <tr>\n",
              "      <td>12</td>\n",
              "      <td>0.003800</td>\n",
              "      <td>0.024837</td>\n",
              "      <td>0.960700</td>\n",
              "      <td>0.953100</td>\n",
              "    </tr>\n",
              "    <tr>\n",
              "      <td>13</td>\n",
              "      <td>0.001500</td>\n",
              "      <td>0.020554</td>\n",
              "      <td>0.967100</td>\n",
              "      <td>0.953100</td>\n",
              "    </tr>\n",
              "    <tr>\n",
              "      <td>14</td>\n",
              "      <td>0.001900</td>\n",
              "      <td>0.023082</td>\n",
              "      <td>0.956300</td>\n",
              "      <td>0.947900</td>\n",
              "    </tr>\n",
              "    <tr>\n",
              "      <td>15</td>\n",
              "      <td>0.003200</td>\n",
              "      <td>0.021655</td>\n",
              "      <td>0.956300</td>\n",
              "      <td>0.947900</td>\n",
              "    </tr>\n",
              "  </tbody>\n",
              "</table><p>"
            ]
          },
          "metadata": {}
        },
        {
          "output_type": "execute_result",
          "data": {
            "text/plain": [
              "TrainOutput(global_step=720, training_loss=0.2372070283683974, metrics={'train_runtime': 1562.432, 'train_samples_per_second': 14.746, 'train_steps_per_second': 0.461, 'total_flos': 7015194899251200.0, 'train_loss': 0.2372070283683974, 'epoch': 15.0})"
            ]
          },
          "metadata": {},
          "execution_count": 19
        }
      ]
    },
    {
      "cell_type": "code",
      "metadata": {
        "id": "EhfLMOAmhIG6"
      },
      "source": [
        "save_directory = \".\" # save in the current working directory, you can change this of course\n",
        "model.save_pretrained(save_directory)"
      ],
      "execution_count": 20,
      "outputs": []
    },
    {
      "cell_type": "markdown",
      "metadata": {
        "id": "BzhasngvAwX3"
      },
      "source": [
        "## Inference"
      ]
    },
    {
      "cell_type": "markdown",
      "source": [
        "### Sanity check"
      ],
      "metadata": {
        "id": "YXVLOtgTY-6d"
      }
    },
    {
      "cell_type": "code",
      "source": [
        "inference_examples = []\n",
        "for data_type in ['train', 'validation', 'test']:\n",
        "  for iter in range(3):\n",
        "    idx = random.randint(0, len(init_dataset[data_type])-1)\n",
        "    test_example = init_dataset[data_type][idx]\n",
        "    inference_examples.append((data_type, test_example['query'], test_example['api_string']))"
      ],
      "metadata": {
        "id": "oZ3mJMXXKFKe"
      },
      "execution_count": 21,
      "outputs": []
    },
    {
      "cell_type": "code",
      "metadata": {
        "id": "Vu68VMzTEXek"
      },
      "source": [
        "model = AutoModelForSeq2SeqLM.from_pretrained(save_directory)"
      ],
      "execution_count": 22,
      "outputs": []
    },
    {
      "cell_type": "markdown",
      "metadata": {
        "id": "2w7JC9CxJJ_F"
      },
      "source": [
        "Note that there are several ways of doing generation (greedy decoding/beam search/top k sampling/etc). Here we will use greedy decoding and beam search for sanity check."
      ]
    },
    {
      "cell_type": "code",
      "source": [
        "example_results = []\n",
        "print(\"******************greedy decoding*****************************\")\n",
        "for data_type, query, api_string in inference_examples:\n",
        "  print(\"***********************************************\")\n",
        "  print(\"Type: \", data_type)\n",
        "  print(\"Query: \", query)\n",
        "  print(\"Ground truth: \", api_string)\n",
        "  input_ids = tokenizer(query, return_tensors='pt').input_ids\n",
        "  # generate\n",
        "  outputs = model.generate(input_ids, max_new_tokens=max_target_length)\n",
        "  res = tokenizer.decode(outputs[0], skip_special_tokens=True)\n",
        "  print(\"Generated api string:\", res)\n",
        "  example_results.append((data_type, query, api_string, res))"
      ],
      "metadata": {
        "colab": {
          "base_uri": "https://localhost:8080/"
        },
        "outputId": "b250d3c6-0754-4779-a06b-728b39c248b8",
        "id": "SJLPFcQABLyx"
      },
      "execution_count": 23,
      "outputs": [
        {
          "output_type": "stream",
          "name": "stdout",
          "text": [
            "******************greedy decoding*****************************\n",
            "***********************************************\n",
            "Type:  train\n",
            "Query:   Victor was working as a sacker at a grocery store where he made 6 dollars an hour. On Monday he worked 5 hours and on Tuesday he worked 5 hours. How much money did Victor make in those two days? \n",
            "Ground truth:  Calculate(6.0*(5.0+5.0))\n",
            "Generated api string: Calculate(6.0*(5.0+5.0))\n",
            "***********************************************\n",
            "Type:  train\n",
            "Query:  10 reasons why jogging is good for you?\n",
            "Ground truth:  Search()\n",
            "Generated api string: Search()\n",
            "***********************************************\n",
            "Type:  train\n",
            "Query:  100 reasons why i love you for husband?\n",
            "Ground truth:  Search()\n",
            "Generated api string: Search()\n",
            "***********************************************\n",
            "Type:  validation\n",
            "Query:  10 reasons why employees get fired?\n",
            "Ground truth:  Search()\n",
            "Generated api string: Search()\n",
            "***********************************************\n",
            "Type:  validation\n",
            "Query:  1 acre equals how many kanals?\n",
            "Ground truth:  UnitConvert(SourceUnit:\"acre\", TargetUnit:\"kanal\", SourceValue:1)\n",
            "Generated api string: UnitConvert(SourceUnit:\"acre\", TargetUnit:\"kanal\", SourceValue:1)\n",
            "***********************************************\n",
            "Type:  validation\n",
            "Query:  1 year old baby what to eat?\n",
            "Ground truth:  Search()\n",
            "Generated api string: Search()\n",
            "***********************************************\n",
            "Type:  test\n",
            "Query:   A magician was selling magic card decks for 5 dollars each. If he started with 14 decks and by the end of the day he had 5 left, how much money did he earn? \n",
            "Ground truth:  Calculate(5.0*(14.0-5.0))\n",
            "Generated api string: Calculate(5.0*(14.0-5.0))\n",
            "***********************************************\n",
            "Type:  test\n",
            "Query:   Zoe bought two coloring books. One had 44 pictures and the other had 44. After one week she had already colored 20 of the pictures. How many pictures does she still have to color? \n",
            "Ground truth:  Calculate((44.0+44.0)-20.0)\n",
            "Generated api string: Calculate((44.0+44.0)-20.0)\n",
            "***********************************************\n",
            "Type:  test\n",
            "Query:  1 acre is equal to how many sq mtr?\n",
            "Ground truth:  UnitConvert(SourceUnit:\"acre\", TargetUnit:\"meter^2\", SourceValue:1)\n",
            "Generated api string: UnitConvert(SourceUnit:\"acre\", TargetUnit:\"meter^2\", SourceValue:1)\n"
          ]
        }
      ]
    },
    {
      "cell_type": "code",
      "source": [
        "# activate beam search and early_stopping\n",
        "print(\"******************activate beam search (5) and early_stopping*****************************\")\n",
        "example_results = []\n",
        "for data_type, query, api_string in inference_examples:\n",
        "  print(\"***********************************************\")\n",
        "  print(\"Type: \", data_type)\n",
        "  print(\"Query: \", query)\n",
        "  print(\"Ground truth: \", api_string)\n",
        "  input_ids = tokenizer(query, return_tensors='pt')\n",
        "  # generate\n",
        "  # outputs = model.generate(input_ids)\n",
        "  outputs = model.generate(\n",
        "    **input_ids,\n",
        "    num_beams=5,\n",
        "    early_stopping=True, max_new_tokens=max_target_length\n",
        ")\n",
        "  res = tokenizer.decode(outputs[0], skip_special_tokens=True)\n",
        "  print(\"Generated api string:\", res)\n",
        "  example_results.append((data_type, query, api_string, res))"
      ],
      "metadata": {
        "colab": {
          "base_uri": "https://localhost:8080/"
        },
        "id": "rSAVLPHgNzCY",
        "outputId": "95adfe7c-6e05-4a5f-cd6b-47f58333d8a4"
      },
      "execution_count": 24,
      "outputs": [
        {
          "output_type": "stream",
          "name": "stdout",
          "text": [
            "******************activate beam search (5) and early_stopping*****************************\n",
            "***********************************************\n",
            "Type:  train\n",
            "Query:   Victor was working as a sacker at a grocery store where he made 6 dollars an hour. On Monday he worked 5 hours and on Tuesday he worked 5 hours. How much money did Victor make in those two days? \n",
            "Ground truth:  Calculate(6.0*(5.0+5.0))\n",
            "Generated api string: Calculate(6.0*(5.0+5.0))\n",
            "***********************************************\n",
            "Type:  train\n",
            "Query:  10 reasons why jogging is good for you?\n",
            "Ground truth:  Search()\n",
            "Generated api string: Search()\n",
            "***********************************************\n",
            "Type:  train\n",
            "Query:  100 reasons why i love you for husband?\n",
            "Ground truth:  Search()\n",
            "Generated api string: Search()\n",
            "***********************************************\n",
            "Type:  validation\n",
            "Query:  10 reasons why employees get fired?\n",
            "Ground truth:  Search()\n",
            "Generated api string: Search()\n",
            "***********************************************\n",
            "Type:  validation\n",
            "Query:  1 acre equals how many kanals?\n",
            "Ground truth:  UnitConvert(SourceUnit:\"acre\", TargetUnit:\"kanal\", SourceValue:1)\n",
            "Generated api string: UnitConvert(SourceUnit:\"acre\", TargetUnit:\"kanal\", SourceValue:1)\n",
            "***********************************************\n",
            "Type:  validation\n",
            "Query:  1 year old baby what to eat?\n",
            "Ground truth:  Search()\n",
            "Generated api string: Search()\n",
            "***********************************************\n",
            "Type:  test\n",
            "Query:   A magician was selling magic card decks for 5 dollars each. If he started with 14 decks and by the end of the day he had 5 left, how much money did he earn? \n",
            "Ground truth:  Calculate(5.0*(14.0-5.0))\n",
            "Generated api string: Calculate(5.0*(14.0-5.0))\n",
            "***********************************************\n",
            "Type:  test\n",
            "Query:   Zoe bought two coloring books. One had 44 pictures and the other had 44. After one week she had already colored 20 of the pictures. How many pictures does she still have to color? \n",
            "Ground truth:  Calculate((44.0+44.0)-20.0)\n",
            "Generated api string: Calculate((44.0+44.0)-20.0)\n",
            "***********************************************\n",
            "Type:  test\n",
            "Query:  1 acre is equal to how many sq mtr?\n",
            "Ground truth:  UnitConvert(SourceUnit:\"acre\", TargetUnit:\"meter^2\", SourceValue:1)\n",
            "Generated api string: UnitConvert(SourceUnit:\"acre\", TargetUnit:\"ft^2\", SourceValue:1)\n"
          ]
        }
      ]
    },
    {
      "cell_type": "markdown",
      "source": [
        "## Calculate test metrics"
      ],
      "metadata": {
        "id": "gvOFLSumZzIW"
      }
    },
    {
      "cell_type": "code",
      "source": [
        "def compute_test_metrics(decoded_preds, decoded_labels):\n",
        "  decoded_preds, decoded_labels = postprocess_text(decoded_preds, decoded_labels)\n",
        "  bleu_result = metric.compute(predictions=decoded_preds, references=decoded_labels)\n",
        "  result = {\"bleu\": bleu_result['bleu']}\n",
        "  # Calculate Exact Match (EM)\n",
        "  exact_match = sum([1.0 if p == l else 0 for p, l in zip(decoded_preds, decoded_labels)]) / len(decoded_labels)\n",
        "  result[\"exact_match\"] = exact_match\n",
        "  result = {k: round(v, 4) for k, v in result.items()}\n",
        "  return result"
      ],
      "metadata": {
        "id": "qk4NIl3-hmB_"
      },
      "execution_count": 25,
      "outputs": []
    },
    {
      "cell_type": "code",
      "source": [
        "test_examples = []\n",
        "for data_type in ['test']:\n",
        "  for idx in range(len(init_dataset[data_type])):\n",
        "    test_example = init_dataset[data_type][idx]\n",
        "    test_examples.append((data_type, test_example['query'], test_example['api_string']))\n",
        "\n",
        "test_results = []\n",
        "for data_type, query, api_string in test_examples:\n",
        "  input_ids = tokenizer(query, return_tensors='pt').input_ids\n",
        "  # generate\n",
        "  outputs = model.generate(input_ids, max_new_tokens=max_target_length)\n",
        "  res = tokenizer.decode(outputs[0], skip_special_tokens=True)\n",
        "  test_results.append((data_type, query, api_string, res))"
      ],
      "metadata": {
        "id": "GOqvtbm-a7ns"
      },
      "execution_count": 26,
      "outputs": []
    },
    {
      "cell_type": "code",
      "source": [
        "decoded_preds_test = [item[3] for item in test_results]\n",
        "decoded_labels_test = [item[2] for item in test_results]\n",
        "test_metric = compute_test_metrics(decoded_preds_test, decoded_labels_test)\n",
        "test_metric"
      ],
      "metadata": {
        "colab": {
          "base_uri": "https://localhost:8080/"
        },
        "id": "yJlkDPX9ifK4",
        "outputId": "ede6642e-4d15-4ae2-9545-0395da38659f"
      },
      "execution_count": 27,
      "outputs": [
        {
          "output_type": "execute_result",
          "data": {
            "text/plain": [
              "{'bleu': 0.9727, 'exact_match': 0.9427}"
            ]
          },
          "metadata": {},
          "execution_count": 27
        }
      ]
    },
    {
      "cell_type": "markdown",
      "source": [
        "## Performance summary\n",
        "Validation data: {'bleu': 0.9563, 'exact_match': 0.9479}\n",
        "\n",
        "Hold-out test data: {'bleu': 0.9727, 'exact_match': 0.9427}"
      ],
      "metadata": {
        "id": "5FP8YWYlNp8D"
      }
    },
    {
      "cell_type": "markdown",
      "metadata": {
        "id": "nC_9q7BDF_cU"
      },
      "source": [
        "## Upload trained model to the hub"
      ]
    },
    {
      "cell_type": "markdown",
      "metadata": {
        "id": "7zKZKbHrJ05q"
      },
      "source": [
        "Next, we can login with the credentials of our HuggingFace account (you can sign up on [hf.co](https://hf.co) if you haven't already!)."
      ]
    },
    {
      "cell_type": "code",
      "source": [
        "from huggingface_hub import notebook_login\n",
        "\n",
        "notebook_login()"
      ],
      "metadata": {
        "id": "OVHK8_uKoyPA",
        "colab": {
          "base_uri": "https://localhost:8080/",
          "height": 145,
          "referenced_widgets": [
            "eb9c8285a75a47c7b9b7a4ee7e7e77ba",
            "852a0f72bc4240bca3b8b2b24926722f",
            "acebf0e93fb0477ba5148d518e9c796f",
            "87b5e32f432d49c29c718d9f7eb62e03",
            "16cc615777a54d9593d7be41e4bc9640",
            "b8a5af26d4a64ca3a4dcac4ff628b17d",
            "6bc365a0b02143b5a49e495ad4f5b487",
            "778a5b2ae73845f48edd7178f4c0b433",
            "be1d4b6bbd3d41c6b6761f77b11ac79b",
            "b52f048c5a2245889232add1581ed651",
            "b783588473da4e2988c4855ac5b0fb5d",
            "f442451e61cb4d8eaf1436449c41a454",
            "5170323d7b5b4da08954d1653cc77bb8",
            "99b0f9d671e6467db23b6791cd27dde1",
            "2633d2b80a1a4e77b82aaab6fa262179",
            "f4e3c4a338ba43a4a94ce138466a3878",
            "9b31243fd154489ebc84883939b6758b",
            "6fbc743f540f46e1a3bbaa0b72de985a",
            "f2fc709f1bbf490ab0df6204e479252e",
            "fa79fb605f6b45baacd5ff74306821d7",
            "57ec8fa0d38449f89a1f4f29aded11aa",
            "aab091918d4b4416b0d81f8626035e71",
            "276e89c15cff41dab3d10aea1879fa88",
            "8c186c6bca5347d8bfd30618c51e0216",
            "edf7cf5703c642bcba04a3a8a5e22ba4",
            "8874cb3f97a84318b6551d0c74614f22",
            "17185b17de40452ca2510fea11f2820b",
            "784b5f834a4b4c10b2c0e0adf3e9b756",
            "9f62d30f6931417fa1acd6f5eac86400",
            "0d5777bce8944ddb94b6259b23d00063",
            "d26c66cb655249388a38b23f5a80cfc0",
            "07b0009af1424b928615abeb992cf993"
          ]
        },
        "outputId": "da6bcfd5-2e05-478c-f0a5-cafbde50e80b"
      },
      "execution_count": 28,
      "outputs": [
        {
          "output_type": "display_data",
          "data": {
            "text/plain": [
              "VBox(children=(HTML(value='<center> <img\\nsrc=https://huggingface.co/front/assets/huggingface_logo-noborder.sv…"
            ],
            "application/vnd.jupyter.widget-view+json": {
              "version_major": 2,
              "version_minor": 0,
              "model_id": "eb9c8285a75a47c7b9b7a4ee7e7e77ba"
            }
          },
          "metadata": {}
        }
      ]
    },
    {
      "cell_type": "code",
      "metadata": {
        "id": "Qo7cID0bHWVN",
        "colab": {
          "base_uri": "https://localhost:8080/",
          "height": 104,
          "referenced_widgets": [
            "b7b51452a86f490590cd6ed501d80dbb",
            "2feb80cc39314d418ec42cd656c846c5",
            "7a92ae38c36a4db4b1f890a1ae128ee1",
            "16c864f5c9a9433b8e142f587e34e35b",
            "d82052f301e24386b2f524dab5d3bfb3",
            "64695855a65845338fe69a5f7fac75dc",
            "3ffe894b01684b168766f65381145396",
            "de548ba01c9b4bd1a5eac963c37bbd62",
            "a430fea5dd1049f7aeebae2bdb9c0b8c",
            "423bb7c80a4340969ca5438f43d70fe1",
            "d9ac37e99c4947098dcef2466e695c99"
          ]
        },
        "outputId": "d9477021-a014-40ec-99c0-7902b31b8e9c"
      },
      "source": [
        "\n",
        "new_model = \"codet5p-220m-finetuned-for-query-convert\"\n",
        "model.push_to_hub(new_model)\n",
        "tokenizer.push_to_hub(new_model)"
      ],
      "execution_count": 30,
      "outputs": [
        {
          "output_type": "display_data",
          "data": {
            "text/plain": [
              "pytorch_model.bin:   0%|          | 0.00/892M [00:00<?, ?B/s]"
            ],
            "application/vnd.jupyter.widget-view+json": {
              "version_major": 2,
              "version_minor": 0,
              "model_id": "b7b51452a86f490590cd6ed501d80dbb"
            }
          },
          "metadata": {}
        },
        {
          "output_type": "execute_result",
          "data": {
            "text/plain": [
              "CommitInfo(commit_url='https://huggingface.co/blueplanet2373/codet5p-220m-finetuned-for-query-convert/commit/5b20589f04b762c7b20974052efd713a6e14fce5', commit_message='Upload tokenizer', commit_description='', oid='5b20589f04b762c7b20974052efd713a6e14fce5', pr_url=None, pr_revision=None, pr_num=None)"
            ]
          },
          "metadata": {},
          "execution_count": 30
        }
      ]
    },
    {
      "cell_type": "code",
      "source": [
        "# finish after post-training analysis, testing, other logged code\n",
        "wandb.finish()"
      ],
      "metadata": {
        "id": "uYoEDCkx0EVy",
        "colab": {
          "base_uri": "https://localhost:8080/",
          "height": 918,
          "referenced_widgets": [
            "d4858e40aa3b4444bcf186d7b2831be7",
            "e05fc4084920439cbf1eee96c2837b8a",
            "f8b72d701c1c466f8b1049a916a0c744",
            "4d6fea8ca64940729959d70aaf615f57",
            "95397650f26446f6af0f7e5d64024a31",
            "2cdc91e7785248eb9e835688bedbbd03",
            "522e6cb7c9764db2bc6aeeea46350bb0",
            "c2442e7e8f774a83b0362c06b889afc6"
          ]
        },
        "outputId": "fd51f2ff-ebbb-4896-c009-a384537a9793"
      },
      "execution_count": 31,
      "outputs": [
        {
          "output_type": "display_data",
          "data": {
            "text/plain": [
              "<IPython.core.display.HTML object>"
            ],
            "text/html": [
              "Waiting for W&B process to finish... <strong style=\"color:green\">(success).</strong>"
            ]
          },
          "metadata": {}
        },
        {
          "output_type": "display_data",
          "data": {
            "text/plain": [
              "VBox(children=(Label(value='0.001 MB of 0.001 MB uploaded (0.000 MB deduped)\\r'), FloatProgress(value=1.0, max…"
            ],
            "application/vnd.jupyter.widget-view+json": {
              "version_major": 2,
              "version_minor": 0,
              "model_id": "d4858e40aa3b4444bcf186d7b2831be7"
            }
          },
          "metadata": {}
        },
        {
          "output_type": "display_data",
          "data": {
            "text/plain": [
              "<IPython.core.display.HTML object>"
            ],
            "text/html": [
              "<style>\n",
              "    table.wandb td:nth-child(1) { padding: 0 10px; text-align: left ; width: auto;} td:nth-child(2) {text-align: left ; width: 100%}\n",
              "    .wandb-row { display: flex; flex-direction: row; flex-wrap: wrap; justify-content: flex-start; width: 100% }\n",
              "    .wandb-col { display: flex; flex-direction: column; flex-basis: 100%; flex: 1; padding: 10px; }\n",
              "    </style>\n",
              "<div class=\"wandb-row\"><div class=\"wandb-col\"><h3>Run history:</h3><br/><table class=\"wandb\"><tr><td>eval/bleu</td><td>▁▅▇▇███████████</td></tr><tr><td>eval/exact_match</td><td>▁▃▆▇▇██████████</td></tr><tr><td>eval/loss</td><td>█▃▂▂▁▁▁▁▁▁▁▁▁▁▁</td></tr><tr><td>eval/runtime</td><td>▁▄▄▄▄▄▅█▄▃▃▅▃▃█</td></tr><tr><td>eval/samples_per_second</td><td>█▄▅▄▅▄▄▁▅▅▅▃▅▆▁</td></tr><tr><td>eval/steps_per_second</td><td>█▄▅▄▅▄▄▁▅▅▅▃▅▆▁</td></tr><tr><td>train/epoch</td><td>▁▁▁▂▂▂▂▂▂▃▃▃▃▃▃▄▄▄▄▄▅▅▅▅▅▅▆▆▆▆▆▇▇▇▇▇▇███</td></tr><tr><td>train/global_step</td><td>▁▁▁▂▂▂▂▂▂▃▃▃▃▃▃▄▄▄▄▄▅▅▅▅▅▅▆▆▆▆▆▇▇▇▇▇▇███</td></tr><tr><td>train/learning_rate</td><td>▁▂▂▃▄▄▅▆▆▇████▇▇▇▇▆▆▆▆▅▅▅▄▄▄▄▄▃▃▃▃▂▂▂▂▁▁</td></tr><tr><td>train/loss</td><td>█▅▂▁▁▁▁▁▁▁▁▁▁▁▁▁▁▁▁▁▁▁▁▁▁▁▁▁▁▁▁▁▁▁▁▁▁▁▁▁</td></tr><tr><td>train/total_flos</td><td>▁</td></tr><tr><td>train/train_loss</td><td>▁</td></tr><tr><td>train/train_runtime</td><td>▁</td></tr><tr><td>train/train_samples_per_second</td><td>▁</td></tr><tr><td>train/train_steps_per_second</td><td>▁</td></tr></table><br/></div><div class=\"wandb-col\"><h3>Run summary:</h3><br/><table class=\"wandb\"><tr><td>eval/bleu</td><td>0.9563</td></tr><tr><td>eval/exact_match</td><td>0.9479</td></tr><tr><td>eval/loss</td><td>0.02166</td></tr><tr><td>eval/runtime</td><td>29.2147</td></tr><tr><td>eval/samples_per_second</td><td>6.572</td></tr><tr><td>eval/steps_per_second</td><td>1.643</td></tr><tr><td>train/epoch</td><td>15.0</td></tr><tr><td>train/global_step</td><td>720</td></tr><tr><td>train/learning_rate</td><td>0.0</td></tr><tr><td>train/loss</td><td>0.0032</td></tr><tr><td>train/total_flos</td><td>7015194899251200.0</td></tr><tr><td>train/train_loss</td><td>0.23721</td></tr><tr><td>train/train_runtime</td><td>1562.432</td></tr><tr><td>train/train_samples_per_second</td><td>14.746</td></tr><tr><td>train/train_steps_per_second</td><td>0.461</td></tr></table><br/></div></div>"
            ]
          },
          "metadata": {}
        },
        {
          "output_type": "display_data",
          "data": {
            "text/plain": [
              "<IPython.core.display.HTML object>"
            ],
            "text/html": [
              " View run <strong style=\"color:#cdcd00\">ethereal-microwave-26</strong> at: <a href='https://wandb.ai/lynn_xu/Query_Convert/runs/i5uptn85' target=\"_blank\">https://wandb.ai/lynn_xu/Query_Convert/runs/i5uptn85</a><br/>Synced 5 W&B file(s), 0 media file(s), 0 artifact file(s) and 0 other file(s)"
            ]
          },
          "metadata": {}
        },
        {
          "output_type": "display_data",
          "data": {
            "text/plain": [
              "<IPython.core.display.HTML object>"
            ],
            "text/html": [
              "Find logs at: <code>./wandb/run-20231024_051123-i5uptn85/logs</code>"
            ]
          },
          "metadata": {}
        }
      ]
    },
    {
      "cell_type": "code",
      "source": [
        "# Empty VRAM\n",
        "del model\n",
        "del trainer\n",
        "import gc\n",
        "gc.collect()\n",
        "gc.collect()"
      ],
      "metadata": {
        "colab": {
          "base_uri": "https://localhost:8080/"
        },
        "id": "vAUQjMsc-Ms1",
        "outputId": "c824bab0-3cee-41d9-ebb9-1135605c0fcd"
      },
      "execution_count": null,
      "outputs": [
        {
          "output_type": "execute_result",
          "data": {
            "text/plain": [
              "0"
            ]
          },
          "metadata": {},
          "execution_count": 27
        }
      ]
    },
    {
      "cell_type": "code",
      "source": [],
      "metadata": {
        "id": "qOWlm2h3HKmz"
      },
      "execution_count": null,
      "outputs": []
    },
    {
      "cell_type": "markdown",
      "source": [
        "## TODO:\n",
        "Data Cleaning: Considerations for better cleaning of the training data have been identified. These include addressing data inconsistencies, such as variations in unit representations (e.g., \"meter^2\" or \"square meter\"), and resolving issues like improperly formatted examples, where essential quotation marks may be missing for \"SourceUnit\" and \"TargetUnit\" arguments. Implementing these data cleaning can help further improve the performance of the model.\n",
        "\n",
        "More exhaustive parameter search: Hyperparameter tuning can be automated using techniques like grid search or Bayesian optimization.\n",
        "\n",
        "Inference Latency Optimization: A more rigorous inference time test, deployment strategy evaluation and potential optimization to ensure that the model's real-time response aligns with the specific requirements for production deployment can be conducted.\n",
        "\n",
        "\n",
        "\n",
        "\n"
      ],
      "metadata": {
        "id": "2UWh_jShK1Pi"
      }
    }
  ]
}